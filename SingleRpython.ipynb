{
 "cells": [
  {
   "cell_type": "code",
   "execution_count": 10,
   "metadata": {
    "ExecuteTime": {
     "end_time": "2018-11-01T15:50:21.392350Z",
     "start_time": "2018-11-01T15:50:21.379418Z"
    }
   },
   "outputs": [],
   "source": [
    "import pandas as pd\n",
    "import numpy as np\n",
    "import os\n",
    "import matplotlib\n",
    "import scanpy.api as sc\n",
    "import scipy.io\n",
    "from sklearn.preprocessing import quantile_transform\n",
    "from sklearn.linear_model import LogisticRegression\n",
    "import operator\n",
    "\n",
    "def getDEgenes(refDataset,anot=None,n=None):\n",
    "    \"\"\" Create a list for differential genes for all pairwise cell types in the a reference data set.\n",
    "    \n",
    "    Parameters\n",
    "    ----------\n",
    "    refDataset : DataFrame\n",
    "        The reference dataset gene expression matrix.\n",
    "    anot : DataFrame\n",
    "        Annotations for each column in ref_data.\n",
    "    n : int\n",
    "        Number of top differential genes.\n",
    "    Returns\n",
    "    -------\n",
    "    deGenes : dict with multiple index\n",
    "        Dictionary containing differential genes for each combination of cell types. \n",
    "    \"\"\"\n",
    "    if n is None:\n",
    "        n=int(500*np.power(2/3,np.log2(len(np.unique(anot.cellType)))))\n",
    "    if anot is not None:\n",
    "        types=np.unique(anot.cellType)\n",
    "        median=refDataset.groupby(anot.cellType.values,axis=1).apply(np.median,axis=1)\n",
    "        deGenes={}\n",
    "        [deGenes.update({(i,j):median[i]-median[j]}) for i in median.index  for j in median.index if i!=j]\n",
    "        for i in deGenes.keys():\n",
    "            deGenes[i]=refDataset.iloc[deGenes.get(i).argsort()[-n:]].index.values.tolist()\n",
    "    else:\n",
    "        anot=refDataset.loc[\"cell_type\"].values\n",
    "        types=np.unique(anot)\n",
    "        refDataset=refDataset.drop(\"cell_type\")\n",
    "        refDataset=refDataset.astype(float)\n",
    "        median=refDataset.groupby(anot,axis=1).apply(np.median,axis=1)\n",
    "        deGenes={}\n",
    "        [deGenes.update({(i,j):median[i]-median[j]}) for i in median.index  for j in median.index if i!=j]\n",
    "        for i in deGenes.keys():\n",
    "            deGenes[i]=refDataset.iloc[deGenes.get(i).argsort()[-n:]].index.values.tolist()\n",
    "    return deGenes\n",
    "\n",
    "def getClassificationScores(Sample_sc,refDataset,anot):\n",
    "    \"\"\" Returns a matrix of scores of spearman correlation with reference classes for each single cell. \n",
    "    \n",
    "    Parameters\n",
    "    ----------\n",
    "    Sample_sc : DataFrame\n",
    "        Sc-RNAseq data.\n",
    "    refDataset : DataFrame\n",
    "        The reference dataset gene expression matrix.\n",
    "    anot : DataFrame\n",
    "        Annotations for each column in ref_data.\n",
    "    Returns\n",
    "    -------\n",
    "    scores : tuple\n",
    "        A tuple object including scoring matrix and correlation matrix. \n",
    "    \"\"\"\n",
    "    intersect=np.intersect1d(refDataset.index.values,Sample_sc.index)\n",
    "    Sample_sc=Sample_sc.loc[intersect]\n",
    "    refDataset=refDataset.loc[intersect]\n",
    "    output=pd.DataFrame(index=np.unique(anot[\"cellType\"]))\n",
    "    \n",
    "    de=getDEgenes(refDataset,anot=anot)\n",
    "    de_merged=[]\n",
    "    [de_merged.extend(i) for i in  de.values()]\n",
    "    de_merged=np.unique(de_merged) #the results before here is exactly the same but here the length differs IDK why.\n",
    "\n",
    "    cor=scipy.stats.spearmanr(Sample_sc.loc[de_merged],refDataset.loc[de_merged])\n",
    "    cor=pd.DataFrame(cor[0]).iloc[:,0:len(Sample_sc.columns)][-len(refDataset.columns):]\n",
    "    cor.columns=Sample_sc.columns\n",
    "    cor.index=refDataset.columns\n",
    "    cor[\"cellType\"]=anot[\"cellType\"].values\n",
    "    scores=cor.groupby(\"cellType\").quantile(q=0.8)\n",
    "    return scores,cor\n",
    "\n",
    "def readData_SingleR(path,min_genes):\n",
    "    \"\"\" Returns single cell data as a matrix. \n",
    "    \n",
    "    Parameters\n",
    "    ----------\n",
    "    path : str\n",
    "        Diractory path, the location of single cell data.\n",
    "    min_genes : int\n",
    "        The minimum number of genes for a cell to have in order to participate the analysis.\n",
    "    Returns\n",
    "    -------\n",
    "    Sample_sc : DataFrame\n",
    "        Single cell data matrix. \n",
    "    \"\"\"\n",
    "    data = sc.read(path + 'matrix.mtx').transpose() #, cache=True\n",
    "    data.var_names = np.genfromtxt(path + 'genes.tsv', dtype=str)[:, 1]\n",
    "    data.obs_names = np.genfromtxt(path + 'barcodes.tsv', dtype=str)\n",
    "    data.var_names_make_unique()\n",
    "    data.obs['n_counts'] = np.sum(data.X, axis=1).A1\n",
    "    sc.pp.filter_cells(data, min_genes=min_genes)\n",
    "\n",
    "    Sample_sc=pd.DataFrame(data.X.toarray())\n",
    "    Sample_sc.index=data.obs_names.values\n",
    "    Sample_sc.columns=data.var_names.values\n",
    "    Sample_sc=Sample_sc.T\n",
    "    Sample_sc\n",
    "    return Sample_sc"
   ]
  },
  {
   "cell_type": "code",
   "execution_count": 11,
   "metadata": {
    "ExecuteTime": {
     "end_time": "2018-11-01T15:50:44.274325Z",
     "start_time": "2018-11-01T15:50:21.616747Z"
    }
   },
   "outputs": [
    {
     "name": "stderr",
     "output_type": "stream",
     "text": [
      "Variable names are not unique. To make them unique, call `.var_names_make_unique`.\n",
      "C:\\Users\\murat_gga8ya6\\Anaconda3\\lib\\site-packages\\ipykernel_launcher.py:2: FutureWarning: from_csv is deprecated. Please use read_csv(...) instead. Note that some of the default arguments are different, so please refer to the documentation for from_csv when changing your function calls\n",
      "  \n",
      "C:\\Users\\murat_gga8ya6\\Anaconda3\\lib\\site-packages\\ipykernel_launcher.py:3: FutureWarning: from_csv is deprecated. Please use read_csv(...) instead. Note that some of the default arguments are different, so please refer to the documentation for from_csv when changing your function calls\n",
      "  This is separate from the ipykernel package so we can avoid doing imports until\n"
     ]
    },
    {
     "data": {
      "text/plain": [
       "0.8\n",
       "AAACATACAATGCC-1           CD8 T Cell\n",
       "AAACATACACGCAT-1           CD8 T Cell\n",
       "AAACATACGAATAG-1        Memory T cell\n",
       "AAACATACGTGTCA-1         B Cell naive\n",
       "AAACATTGGCCCTT-1         B Cell naive\n",
       "AAACATTGTTTGGG-1         B Cell naive\n",
       "AAACCGTGGGGACA-1        Memory T cell\n",
       "AAACCGTGTGCATG-1         B Cell naive\n",
       "AAACGCACCCAGTA-1           CD8 T Cell\n",
       "AAACGCACGCCCTT-1        Memory T cell\n",
       "AAACGCACGTACCA-1        Memory T cell\n",
       "AAACGCACGTGTAC-1           CD8 T Cell\n",
       "AAACGCTGATCTTC-1         B Cell naive\n",
       "AAACGCTGCCCTCA-1           CD8 T Cell\n",
       "AAACGCTGCCTACC-1           CD8 T Cell\n",
       "AAACGCTGGCCTTC-1        Memory T cell\n",
       "AAACGGCTTGTCAG-1           CD8 T Cell\n",
       "AAACTTGAACGCTA-1         B Cell naive\n",
       "AAACTTGAACGTAC-1         B Cell naive\n",
       "AAACTTGATCTTAC-1        Memory T cell\n",
       "AAACTTGATGCCCT-1         B Cell naive\n",
       "AAAGACGACAATCG-1              NK Cell\n",
       "AAAGACGACAGAGG-1         B Cell naive\n",
       "AAAGACGACCAATG-1           CD8 T Cell\n",
       "AAAGACGACCTTAT-1         B Cell naive\n",
       "AAAGAGACCGTCTC-1         B Cell naive\n",
       "AAAGAGACGAACTC-1         B Cell naive\n",
       "AAAGAGACTGAAGA-1         B Cell naive\n",
       "AAAGATCTACCAAC-1           CD8 T Cell\n",
       "AAAGATCTCCGAAT-1           CD8 T Cell\n",
       "                          ...        \n",
       "TTGTAGCTCGTGAT-1         B Cell naive\n",
       "TTGTAGCTTGCCTC-1           CD8 T Cell\n",
       "TTGTCATGATTGGC-1           CD8 T Cell\n",
       "TTGTCATGGTCTTT-1           CD8 T Cell\n",
       "TTGTCATGTGCGTA-1         B Cell naive\n",
       "TTTAGAGAATGACC-1         B Cell naive\n",
       "TTTAGCTGTACTTC-1         B Cell naive\n",
       "TTTAGGCTCCATGA-1         B Cell naive\n",
       "TTTAGGCTTCCTGC-1         B Cell naive\n",
       "TTTATCCTACTAGC-1         B Cell naive\n",
       "TTTATCCTTGCTAG-1         B Cell naive\n",
       "TTTCACGAGTAGGG-1         B Cell naive\n",
       "TTTCAGTGACTAGC-1           CD8 T Cell\n",
       "TTTCAGTGGAGGGT-1           CD8 T Cell\n",
       "TTTCAGTGGCCAAT-1              NK Cell\n",
       "TTTCAGTGGGGACA-1         B Cell naive\n",
       "TTTCCAGAATCAGC-1         B Cell naive\n",
       "TTTCCAGAATGTCG-1           CD8 T Cell\n",
       "TTTCCAGAGAGGCA-1        Memory T cell\n",
       "TTTCTACTGCTGAT-1        Memory T cell\n",
       "TTTCTACTTACAGC-1         B Cell naive\n",
       "TTTGACTGCCTAAG-1              NK Cell\n",
       "TTTGACTGCTTGCC-1         B Cell naive\n",
       "TTTGACTGCTTGTT-1         B Cell naive\n",
       "TTTGACTGGAATGA-1        Memory T cell\n",
       "TTTGACTGGATAGA-1           CD8 T Cell\n",
       "TTTGACTGGGAAAT-1    B Cell memory IgM\n",
       "TTTGCATGAGAGTA-1         B Cell naive\n",
       "TTTGCATGCTCGCT-1           CD8 T Cell\n",
       "TTTGCATGTAAGCC-1           CD8 T Cell\n",
       "Length: 4292, dtype: object"
      ]
     },
     "execution_count": 11,
     "metadata": {},
     "output_type": "execute_result"
    }
   ],
   "source": [
    "Sample_sc=readData_SingleR(os.getcwd()+\"\\\\Datasets\\\\b_cells_filtered_gene_bc_matrice\\\\\",500)\n",
    "refDataset=pd.DataFrame.from_csv(os.getcwd()+\"\\\\ref_sample_filtered.csv\")\n",
    "anot=pd.DataFrame.from_csv(os.getcwd()+\"\\\\anot_sample.csv\")\n",
    "anot.columns=[\"cellType\"]\n",
    "scores=getClassificationScores(Sample_sc,refDataset,anot)\n",
    "scores[0].idxmax()"
   ]
  },
  {
   "cell_type": "code",
   "execution_count": null,
   "metadata": {
    "ExecuteTime": {
     "end_time": "2018-11-01T15:49:54.553693Z",
     "start_time": "2018-11-01T15:49:54.540727Z"
    }
   },
   "outputs": [],
   "source": []
  },
  {
   "cell_type": "code",
   "execution_count": null,
   "metadata": {
    "ExecuteTime": {
     "end_time": "2018-10-30T07:03:04.961717Z",
     "start_time": "2018-10-30T07:03:02.036248Z"
    }
   },
   "outputs": [],
   "source": []
  },
  {
   "cell_type": "code",
   "execution_count": null,
   "metadata": {
    "ExecuteTime": {
     "end_time": "2018-11-01T14:54:39.914404Z",
     "start_time": "2018-11-01T14:54:38.306028Z"
    }
   },
   "outputs": [],
   "source": []
  },
  {
   "cell_type": "code",
   "execution_count": null,
   "metadata": {
    "ExecuteTime": {
     "end_time": "2018-11-01T14:54:39.915369Z",
     "start_time": "2018-11-01T14:54:38.854Z"
    },
    "scrolled": true
   },
   "outputs": [],
   "source": []
  },
  {
   "cell_type": "code",
   "execution_count": null,
   "metadata": {
    "ExecuteTime": {
     "end_time": "2018-11-01T15:27:50.793366Z",
     "start_time": "2018-11-01T15:27:29.111628Z"
    }
   },
   "outputs": [],
   "source": []
  },
  {
   "cell_type": "code",
   "execution_count": null,
   "metadata": {
    "ExecuteTime": {
     "end_time": "2018-10-30T07:44:34.397597Z",
     "start_time": "2018-10-30T07:44:34.311716Z"
    }
   },
   "outputs": [],
   "source": []
  },
  {
   "cell_type": "code",
   "execution_count": null,
   "metadata": {
    "ExecuteTime": {
     "end_time": "2018-10-26T14:21:22.606628Z",
     "start_time": "2018-10-26T14:21:22.289705Z"
    }
   },
   "outputs": [],
   "source": []
  },
  {
   "cell_type": "code",
   "execution_count": null,
   "metadata": {
    "ExecuteTime": {
     "end_time": "2018-10-26T14:21:25.305277Z",
     "start_time": "2018-10-26T14:21:25.276519Z"
    }
   },
   "outputs": [],
   "source": []
  },
  {
   "cell_type": "code",
   "execution_count": null,
   "metadata": {
    "ExecuteTime": {
     "end_time": "2018-10-26T14:47:56.103701Z",
     "start_time": "2018-10-26T14:47:56.044478Z"
    }
   },
   "outputs": [],
   "source": []
  },
  {
   "cell_type": "code",
   "execution_count": null,
   "metadata": {
    "ExecuteTime": {
     "end_time": "2018-11-01T15:18:45.379302Z",
     "start_time": "2018-11-01T15:18:34.092472Z"
    }
   },
   "outputs": [],
   "source": []
  },
  {
   "cell_type": "code",
   "execution_count": null,
   "metadata": {
    "ExecuteTime": {
     "end_time": "2018-11-01T15:18:55.609069Z",
     "start_time": "2018-11-01T15:18:45.620631Z"
    }
   },
   "outputs": [],
   "source": []
  },
  {
   "cell_type": "code",
   "execution_count": null,
   "metadata": {
    "ExecuteTime": {
     "end_time": "2018-11-01T15:19:34.169694Z",
     "start_time": "2018-11-01T15:19:34.157746Z"
    }
   },
   "outputs": [],
   "source": []
  },
  {
   "cell_type": "code",
   "execution_count": null,
   "metadata": {
    "ExecuteTime": {
     "end_time": "2018-11-01T15:17:32.649970Z",
     "start_time": "2018-11-01T15:17:32.583149Z"
    }
   },
   "outputs": [],
   "source": []
  },
  {
   "cell_type": "code",
   "execution_count": null,
   "metadata": {
    "ExecuteTime": {
     "end_time": "2018-10-26T14:16:38.378021Z",
     "start_time": "2018-10-26T14:16:38.370967Z"
    }
   },
   "outputs": [],
   "source": []
  },
  {
   "cell_type": "code",
   "execution_count": null,
   "metadata": {
    "ExecuteTime": {
     "end_time": "2018-10-25T19:45:22.499507Z",
     "start_time": "2018-10-25T19:45:22.339716Z"
    }
   },
   "outputs": [],
   "source": []
  },
  {
   "cell_type": "code",
   "execution_count": null,
   "metadata": {
    "ExecuteTime": {
     "end_time": "2018-10-25T19:39:31.154464Z",
     "start_time": "2018-10-25T19:39:31.147484Z"
    }
   },
   "outputs": [],
   "source": []
  },
  {
   "cell_type": "code",
   "execution_count": null,
   "metadata": {
    "ExecuteTime": {
     "end_time": "2018-10-25T10:58:42.211867Z",
     "start_time": "2018-10-25T10:58:42.204819Z"
    }
   },
   "outputs": [],
   "source": []
  },
  {
   "cell_type": "code",
   "execution_count": null,
   "metadata": {
    "ExecuteTime": {
     "end_time": "2018-10-24T19:33:36.249615Z",
     "start_time": "2018-10-24T19:33:36.243619Z"
    }
   },
   "outputs": [],
   "source": []
  },
  {
   "cell_type": "code",
   "execution_count": null,
   "metadata": {
    "ExecuteTime": {
     "end_time": "2018-10-25T17:52:37.365705Z",
     "start_time": "2018-10-25T17:52:37.360719Z"
    }
   },
   "outputs": [],
   "source": []
  },
  {
   "cell_type": "code",
   "execution_count": null,
   "metadata": {
    "ExecuteTime": {
     "end_time": "2018-10-24T19:27:25.513461Z",
     "start_time": "2018-10-24T19:27:25.461603Z"
    }
   },
   "outputs": [],
   "source": []
  },
  {
   "cell_type": "code",
   "execution_count": null,
   "metadata": {
    "ExecuteTime": {
     "end_time": "2018-10-24T18:28:29.202575Z",
     "start_time": "2018-10-24T18:28:29.163121Z"
    }
   },
   "outputs": [],
   "source": []
  },
  {
   "cell_type": "code",
   "execution_count": null,
   "metadata": {
    "ExecuteTime": {
     "end_time": "2018-10-24T18:46:20.279784Z",
     "start_time": "2018-10-24T18:46:20.271752Z"
    }
   },
   "outputs": [],
   "source": []
  },
  {
   "cell_type": "code",
   "execution_count": null,
   "metadata": {
    "ExecuteTime": {
     "end_time": "2018-10-24T18:47:46.665363Z",
     "start_time": "2018-10-24T18:47:46.612881Z"
    }
   },
   "outputs": [],
   "source": []
  },
  {
   "cell_type": "code",
   "execution_count": null,
   "metadata": {
    "ExecuteTime": {
     "end_time": "2018-10-24T18:48:29.925333Z",
     "start_time": "2018-10-24T18:48:29.897087Z"
    }
   },
   "outputs": [],
   "source": []
  },
  {
   "cell_type": "code",
   "execution_count": null,
   "metadata": {
    "ExecuteTime": {
     "end_time": "2018-10-24T18:52:56.235555Z",
     "start_time": "2018-10-24T18:52:56.215066Z"
    }
   },
   "outputs": [],
   "source": []
  },
  {
   "cell_type": "code",
   "execution_count": null,
   "metadata": {
    "ExecuteTime": {
     "end_time": "2018-10-24T18:55:30.150494Z",
     "start_time": "2018-10-24T18:55:30.130296Z"
    }
   },
   "outputs": [],
   "source": []
  },
  {
   "cell_type": "code",
   "execution_count": null,
   "metadata": {
    "ExecuteTime": {
     "end_time": "2018-10-24T17:48:22.426001Z",
     "start_time": "2018-10-24T17:48:22.280593Z"
    }
   },
   "outputs": [],
   "source": []
  },
  {
   "cell_type": "code",
   "execution_count": null,
   "metadata": {
    "ExecuteTime": {
     "end_time": "2018-10-24T17:47:45.456492Z",
     "start_time": "2018-10-24T17:47:45.434520Z"
    }
   },
   "outputs": [],
   "source": []
  },
  {
   "cell_type": "raw",
   "metadata": {
    "ExecuteTime": {
     "end_time": "2018-10-25T13:13:23.589114Z",
     "start_time": "2018-10-25T13:13:21.540621Z"
    }
   },
   "source": [
    "# Reference data filtering for gene names.\n",
    "refDataset=pd.DataFrame.from_csv(os.getcwd()+\"\\\\ref_sample.csv\")\n",
    "refDataset=refDataset.loc[refDataset.index.dropna().values].drop_duplicates()#removing raws with no name.\n",
    "refDataset[\"genes\"]=refDataset.index.values\n",
    "refDataset=refDataset.groupby(\"genes\").mean().reset_index() #taking mean of multiple rows of genes.\n",
    "refDataset.index=refDataset[\"genes\"]\n",
    "del refDataset[\"genes\"]\n",
    "refDataset.to_csv(os.getcwd()+\"\\\\ref_sample_filtered.csv\")"
   ]
  },
  {
   "cell_type": "raw",
   "metadata": {},
   "source": []
  },
  {
   "cell_type": "code",
   "execution_count": null,
   "metadata": {},
   "outputs": [],
   "source": []
  }
 ],
 "metadata": {
  "hide_input": false,
  "kernelspec": {
   "display_name": "Python 3",
   "language": "python",
   "name": "python3"
  },
  "language_info": {
   "codemirror_mode": {
    "name": "ipython",
    "version": 3
   },
   "file_extension": ".py",
   "mimetype": "text/x-python",
   "name": "python",
   "nbconvert_exporter": "python",
   "pygments_lexer": "ipython3",
   "version": "3.7.0"
  },
  "toc": {
   "base_numbering": 1,
   "nav_menu": {},
   "number_sections": true,
   "sideBar": true,
   "skip_h1_title": false,
   "title_cell": "Table of Contents",
   "title_sidebar": "Contents",
   "toc_cell": false,
   "toc_position": {},
   "toc_section_display": true,
   "toc_window_display": false
  },
  "varInspector": {
   "cols": {
    "lenName": 16,
    "lenType": 16,
    "lenVar": 40
   },
   "kernels_config": {
    "python": {
     "delete_cmd_postfix": "",
     "delete_cmd_prefix": "del ",
     "library": "var_list.py",
     "varRefreshCmd": "print(var_dic_list())"
    },
    "r": {
     "delete_cmd_postfix": ") ",
     "delete_cmd_prefix": "rm(",
     "library": "var_list.r",
     "varRefreshCmd": "cat(var_dic_list()) "
    }
   },
   "types_to_exclude": [
    "module",
    "function",
    "builtin_function_or_method",
    "instance",
    "_Feature"
   ],
   "window_display": false
  }
 },
 "nbformat": 4,
 "nbformat_minor": 2
}
