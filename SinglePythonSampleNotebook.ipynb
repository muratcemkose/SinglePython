{
 "cells": [
  {
   "cell_type": "code",
   "execution_count": 1,
   "metadata": {
    "ExecuteTime": {
     "end_time": "2019-06-05T13:54:30.275551Z",
     "start_time": "2019-06-05T13:54:28.144865Z"
    }
   },
   "outputs": [],
   "source": [
    "import SinglePython\n",
    "import pandas as pd\n",
    "import numpy as np\n",
    "import utils"
   ]
  },
  {
   "cell_type": "code",
   "execution_count": 3,
   "metadata": {
    "ExecuteTime": {
     "end_time": "2019-06-05T13:57:05.877669Z",
     "start_time": "2019-06-05T13:57:03.019721Z"
    }
   },
   "outputs": [],
   "source": [
    "# Loading reference dataset and reference annotation\n",
    "refDataset = pd.read_csv(\"./Data/Reference/10X/10X_data.csv\", sep=\",\", decimal = \",\", index_col = 0)\n",
    "refDataset = refDataset.astype('float')\n",
    "refAnnot = pd.read_csv(\"./Data/Reference/10X/10X_annot.csv\",sep=\",\", index_col = 0)"
   ]
  },
  {
   "cell_type": "code",
   "execution_count": 4,
   "metadata": {
    "ExecuteTime": {
     "end_time": "2019-06-05T13:57:34.669609Z",
     "start_time": "2019-06-05T13:57:34.638661Z"
    }
   },
   "outputs": [
    {
     "data": {
      "text/html": [
       "<div>\n",
       "<style scoped>\n",
       "    .dataframe tbody tr th:only-of-type {\n",
       "        vertical-align: middle;\n",
       "    }\n",
       "\n",
       "    .dataframe tbody tr th {\n",
       "        vertical-align: top;\n",
       "    }\n",
       "\n",
       "    .dataframe thead th {\n",
       "        text-align: right;\n",
       "    }\n",
       "</style>\n",
       "<table border=\"1\" class=\"dataframe\">\n",
       "  <thead>\n",
       "    <tr style=\"text-align: right;\">\n",
       "      <th></th>\n",
       "      <th>GTGCTAGAAGCAAA-1</th>\n",
       "      <th>CGTACCACGTCGTA-1</th>\n",
       "      <th>AACACTCTTTCGGA-1</th>\n",
       "      <th>CGATCAGATTGGTG-1</th>\n",
       "      <th>TACTACTGTCGATG-1</th>\n",
       "      <th>GATCTTACCCGCTT-1</th>\n",
       "      <th>TACTTGACGGAGCA-1</th>\n",
       "      <th>GGGTAACTCTCTCG-1</th>\n",
       "      <th>TGAATAACTTCGCC-1</th>\n",
       "      <th>AAGTCCGACTTGCC-1</th>\n",
       "      <th>...</th>\n",
       "      <th>CCAACCTGAAAAGC-1</th>\n",
       "      <th>GCACCTTGTCCAGA-1</th>\n",
       "      <th>CACTAACTAAGAAC-1</th>\n",
       "      <th>ATGCAGACTCAGTG-1</th>\n",
       "      <th>CCGGAGACCGTTAG-1</th>\n",
       "      <th>TTATGGCTGTATCG-1</th>\n",
       "      <th>CGGGACTGTGGTGT-1</th>\n",
       "      <th>TCATTCGACGTGTA-1</th>\n",
       "      <th>CTTGAGGATGTGAC-1</th>\n",
       "      <th>TCATGTACGGTACT-1</th>\n",
       "    </tr>\n",
       "  </thead>\n",
       "  <tbody>\n",
       "    <tr>\n",
       "      <th>MIR1302-10</th>\n",
       "      <td>0.0</td>\n",
       "      <td>0.0</td>\n",
       "      <td>0.0</td>\n",
       "      <td>0.0</td>\n",
       "      <td>0.0</td>\n",
       "      <td>0.0</td>\n",
       "      <td>0.0</td>\n",
       "      <td>0.0</td>\n",
       "      <td>0.0</td>\n",
       "      <td>0.0</td>\n",
       "      <td>...</td>\n",
       "      <td>0.0</td>\n",
       "      <td>0.0</td>\n",
       "      <td>0.0</td>\n",
       "      <td>0.0</td>\n",
       "      <td>0.0</td>\n",
       "      <td>0.0</td>\n",
       "      <td>0.0</td>\n",
       "      <td>0.0</td>\n",
       "      <td>0.0</td>\n",
       "      <td>0.0</td>\n",
       "    </tr>\n",
       "    <tr>\n",
       "      <th>FAM138A</th>\n",
       "      <td>0.0</td>\n",
       "      <td>0.0</td>\n",
       "      <td>0.0</td>\n",
       "      <td>0.0</td>\n",
       "      <td>0.0</td>\n",
       "      <td>0.0</td>\n",
       "      <td>0.0</td>\n",
       "      <td>0.0</td>\n",
       "      <td>0.0</td>\n",
       "      <td>0.0</td>\n",
       "      <td>...</td>\n",
       "      <td>0.0</td>\n",
       "      <td>0.0</td>\n",
       "      <td>0.0</td>\n",
       "      <td>0.0</td>\n",
       "      <td>0.0</td>\n",
       "      <td>0.0</td>\n",
       "      <td>0.0</td>\n",
       "      <td>0.0</td>\n",
       "      <td>0.0</td>\n",
       "      <td>0.0</td>\n",
       "    </tr>\n",
       "    <tr>\n",
       "      <th>OR4F5</th>\n",
       "      <td>0.0</td>\n",
       "      <td>0.0</td>\n",
       "      <td>0.0</td>\n",
       "      <td>0.0</td>\n",
       "      <td>0.0</td>\n",
       "      <td>0.0</td>\n",
       "      <td>0.0</td>\n",
       "      <td>0.0</td>\n",
       "      <td>0.0</td>\n",
       "      <td>0.0</td>\n",
       "      <td>...</td>\n",
       "      <td>0.0</td>\n",
       "      <td>0.0</td>\n",
       "      <td>0.0</td>\n",
       "      <td>0.0</td>\n",
       "      <td>0.0</td>\n",
       "      <td>0.0</td>\n",
       "      <td>0.0</td>\n",
       "      <td>0.0</td>\n",
       "      <td>0.0</td>\n",
       "      <td>0.0</td>\n",
       "    </tr>\n",
       "    <tr>\n",
       "      <th>RP11-34P13.7</th>\n",
       "      <td>0.0</td>\n",
       "      <td>0.0</td>\n",
       "      <td>0.0</td>\n",
       "      <td>0.0</td>\n",
       "      <td>0.0</td>\n",
       "      <td>0.0</td>\n",
       "      <td>0.0</td>\n",
       "      <td>0.0</td>\n",
       "      <td>0.0</td>\n",
       "      <td>0.0</td>\n",
       "      <td>...</td>\n",
       "      <td>0.0</td>\n",
       "      <td>0.0</td>\n",
       "      <td>0.0</td>\n",
       "      <td>0.0</td>\n",
       "      <td>0.0</td>\n",
       "      <td>0.0</td>\n",
       "      <td>0.0</td>\n",
       "      <td>0.0</td>\n",
       "      <td>0.0</td>\n",
       "      <td>0.0</td>\n",
       "    </tr>\n",
       "    <tr>\n",
       "      <th>RP11-34P13.8</th>\n",
       "      <td>0.0</td>\n",
       "      <td>0.0</td>\n",
       "      <td>0.0</td>\n",
       "      <td>0.0</td>\n",
       "      <td>0.0</td>\n",
       "      <td>0.0</td>\n",
       "      <td>0.0</td>\n",
       "      <td>0.0</td>\n",
       "      <td>0.0</td>\n",
       "      <td>0.0</td>\n",
       "      <td>...</td>\n",
       "      <td>0.0</td>\n",
       "      <td>0.0</td>\n",
       "      <td>0.0</td>\n",
       "      <td>0.0</td>\n",
       "      <td>0.0</td>\n",
       "      <td>0.0</td>\n",
       "      <td>0.0</td>\n",
       "      <td>0.0</td>\n",
       "      <td>0.0</td>\n",
       "      <td>0.0</td>\n",
       "    </tr>\n",
       "  </tbody>\n",
       "</table>\n",
       "<p>5 rows × 320 columns</p>\n",
       "</div>"
      ],
      "text/plain": [
       "              GTGCTAGAAGCAAA-1  CGTACCACGTCGTA-1  AACACTCTTTCGGA-1  \\\n",
       "MIR1302-10                 0.0               0.0               0.0   \n",
       "FAM138A                    0.0               0.0               0.0   \n",
       "OR4F5                      0.0               0.0               0.0   \n",
       "RP11-34P13.7               0.0               0.0               0.0   \n",
       "RP11-34P13.8               0.0               0.0               0.0   \n",
       "\n",
       "              CGATCAGATTGGTG-1  TACTACTGTCGATG-1  GATCTTACCCGCTT-1  \\\n",
       "MIR1302-10                 0.0               0.0               0.0   \n",
       "FAM138A                    0.0               0.0               0.0   \n",
       "OR4F5                      0.0               0.0               0.0   \n",
       "RP11-34P13.7               0.0               0.0               0.0   \n",
       "RP11-34P13.8               0.0               0.0               0.0   \n",
       "\n",
       "              TACTTGACGGAGCA-1  GGGTAACTCTCTCG-1  TGAATAACTTCGCC-1  \\\n",
       "MIR1302-10                 0.0               0.0               0.0   \n",
       "FAM138A                    0.0               0.0               0.0   \n",
       "OR4F5                      0.0               0.0               0.0   \n",
       "RP11-34P13.7               0.0               0.0               0.0   \n",
       "RP11-34P13.8               0.0               0.0               0.0   \n",
       "\n",
       "              AAGTCCGACTTGCC-1        ...         CCAACCTGAAAAGC-1  \\\n",
       "MIR1302-10                 0.0        ...                      0.0   \n",
       "FAM138A                    0.0        ...                      0.0   \n",
       "OR4F5                      0.0        ...                      0.0   \n",
       "RP11-34P13.7               0.0        ...                      0.0   \n",
       "RP11-34P13.8               0.0        ...                      0.0   \n",
       "\n",
       "              GCACCTTGTCCAGA-1  CACTAACTAAGAAC-1  ATGCAGACTCAGTG-1  \\\n",
       "MIR1302-10                 0.0               0.0               0.0   \n",
       "FAM138A                    0.0               0.0               0.0   \n",
       "OR4F5                      0.0               0.0               0.0   \n",
       "RP11-34P13.7               0.0               0.0               0.0   \n",
       "RP11-34P13.8               0.0               0.0               0.0   \n",
       "\n",
       "              CCGGAGACCGTTAG-1  TTATGGCTGTATCG-1  CGGGACTGTGGTGT-1  \\\n",
       "MIR1302-10                 0.0               0.0               0.0   \n",
       "FAM138A                    0.0               0.0               0.0   \n",
       "OR4F5                      0.0               0.0               0.0   \n",
       "RP11-34P13.7               0.0               0.0               0.0   \n",
       "RP11-34P13.8               0.0               0.0               0.0   \n",
       "\n",
       "              TCATTCGACGTGTA-1  CTTGAGGATGTGAC-1  TCATGTACGGTACT-1  \n",
       "MIR1302-10                 0.0               0.0               0.0  \n",
       "FAM138A                    0.0               0.0               0.0  \n",
       "OR4F5                      0.0               0.0               0.0  \n",
       "RP11-34P13.7               0.0               0.0               0.0  \n",
       "RP11-34P13.8               0.0               0.0               0.0  \n",
       "\n",
       "[5 rows x 320 columns]"
      ]
     },
     "execution_count": 4,
     "metadata": {},
     "output_type": "execute_result"
    }
   ],
   "source": [
    "# A reference expression data exmaple\n",
    "refDataset.head()"
   ]
  },
  {
   "cell_type": "code",
   "execution_count": 5,
   "metadata": {
    "ExecuteTime": {
     "end_time": "2019-06-05T13:57:34.867110Z",
     "start_time": "2019-06-05T13:57:34.860129Z"
    }
   },
   "outputs": [
    {
     "data": {
      "text/html": [
       "<div>\n",
       "<style scoped>\n",
       "    .dataframe tbody tr th:only-of-type {\n",
       "        vertical-align: middle;\n",
       "    }\n",
       "\n",
       "    .dataframe tbody tr th {\n",
       "        vertical-align: top;\n",
       "    }\n",
       "\n",
       "    .dataframe thead th {\n",
       "        text-align: right;\n",
       "    }\n",
       "</style>\n",
       "<table border=\"1\" class=\"dataframe\">\n",
       "  <thead>\n",
       "    <tr style=\"text-align: right;\">\n",
       "      <th></th>\n",
       "      <th>cellType</th>\n",
       "    </tr>\n",
       "  </thead>\n",
       "  <tbody>\n",
       "    <tr>\n",
       "      <th>GTGCTAGAAGCAAA-1</th>\n",
       "      <td>B_cells</td>\n",
       "    </tr>\n",
       "    <tr>\n",
       "      <th>CGTACCACGTCGTA-1</th>\n",
       "      <td>B_cells</td>\n",
       "    </tr>\n",
       "    <tr>\n",
       "      <th>AACACTCTTTCGGA-1</th>\n",
       "      <td>B_cells</td>\n",
       "    </tr>\n",
       "    <tr>\n",
       "      <th>CGATCAGATTGGTG-1</th>\n",
       "      <td>B_cells</td>\n",
       "    </tr>\n",
       "    <tr>\n",
       "      <th>TACTACTGTCGATG-1</th>\n",
       "      <td>B_cells</td>\n",
       "    </tr>\n",
       "  </tbody>\n",
       "</table>\n",
       "</div>"
      ],
      "text/plain": [
       "                 cellType\n",
       "GTGCTAGAAGCAAA-1  B_cells\n",
       "CGTACCACGTCGTA-1  B_cells\n",
       "AACACTCTTTCGGA-1  B_cells\n",
       "CGATCAGATTGGTG-1  B_cells\n",
       "TACTACTGTCGATG-1  B_cells"
      ]
     },
     "execution_count": 5,
     "metadata": {},
     "output_type": "execute_result"
    }
   ],
   "source": [
    "# A annotation data exmaple\n",
    "refAnnot.head()"
   ]
  },
  {
   "cell_type": "code",
   "execution_count": 7,
   "metadata": {
    "ExecuteTime": {
     "end_time": "2019-06-05T14:05:56.624665Z",
     "start_time": "2019-06-05T14:05:50.639960Z"
    }
   },
   "outputs": [
    {
     "name": "stderr",
     "output_type": "stream",
     "text": [
      "Variable names are not unique. To make them unique, call `.var_names_make_unique`.\n"
     ]
    }
   ],
   "source": [
    "# An example for a single cell experiment\n",
    "# The input is the file path which the count data is present.\n",
    "# 10X datasets are automatically identified. \n",
    "# For the count data that is present in a csv file. Please make sure the file has \"expression\" keyword in file name in order\n",
    "# for the program to identify it.\n",
    "data =utils.readSCData(\"./Data/Datasets/Sample_10X/\",200)"
   ]
  },
  {
   "cell_type": "code",
   "execution_count": 8,
   "metadata": {
    "ExecuteTime": {
     "end_time": "2019-06-05T14:05:56.737366Z",
     "start_time": "2019-06-05T14:05:56.726394Z"
    }
   },
   "outputs": [
    {
     "data": {
      "text/html": [
       "<div>\n",
       "<style scoped>\n",
       "    .dataframe tbody tr th:only-of-type {\n",
       "        vertical-align: middle;\n",
       "    }\n",
       "\n",
       "    .dataframe tbody tr th {\n",
       "        vertical-align: top;\n",
       "    }\n",
       "\n",
       "    .dataframe thead th {\n",
       "        text-align: right;\n",
       "    }\n",
       "</style>\n",
       "<table border=\"1\" class=\"dataframe\">\n",
       "  <thead>\n",
       "    <tr style=\"text-align: right;\">\n",
       "      <th></th>\n",
       "      <th>n_counts</th>\n",
       "      <th>n_genes</th>\n",
       "    </tr>\n",
       "  </thead>\n",
       "  <tbody>\n",
       "    <tr>\n",
       "      <th>AAACCCAAGGAGAGTA-1</th>\n",
       "      <td>8288.0</td>\n",
       "      <td>2620</td>\n",
       "    </tr>\n",
       "    <tr>\n",
       "      <th>AAACGCTTCAGCCCAG-1</th>\n",
       "      <td>5512.0</td>\n",
       "      <td>1808</td>\n",
       "    </tr>\n",
       "    <tr>\n",
       "      <th>AAAGAACAGACGACTG-1</th>\n",
       "      <td>4283.0</td>\n",
       "      <td>1562</td>\n",
       "    </tr>\n",
       "    <tr>\n",
       "      <th>AAAGAACCAATGGCAG-1</th>\n",
       "      <td>2754.0</td>\n",
       "      <td>1225</td>\n",
       "    </tr>\n",
       "    <tr>\n",
       "      <th>AAAGAACGTCTGCAAT-1</th>\n",
       "      <td>6592.0</td>\n",
       "      <td>1831</td>\n",
       "    </tr>\n",
       "  </tbody>\n",
       "</table>\n",
       "</div>"
      ],
      "text/plain": [
       "                    n_counts  n_genes\n",
       "AAACCCAAGGAGAGTA-1    8288.0     2620\n",
       "AAACGCTTCAGCCCAG-1    5512.0     1808\n",
       "AAAGAACAGACGACTG-1    4283.0     1562\n",
       "AAAGAACCAATGGCAG-1    2754.0     1225\n",
       "AAAGAACGTCTGCAAT-1    6592.0     1831"
      ]
     },
     "execution_count": 8,
     "metadata": {},
     "output_type": "execute_result"
    }
   ],
   "source": [
    "# Single cell data example\n",
    "data.obs.head()"
   ]
  },
  {
   "cell_type": "code",
   "execution_count": 10,
   "metadata": {
    "ExecuteTime": {
     "end_time": "2019-06-05T14:06:04.870637Z",
     "start_time": "2019-06-05T14:06:04.865618Z"
    }
   },
   "outputs": [
    {
     "data": {
      "text/html": [
       "<div>\n",
       "<style scoped>\n",
       "    .dataframe tbody tr th:only-of-type {\n",
       "        vertical-align: middle;\n",
       "    }\n",
       "\n",
       "    .dataframe tbody tr th {\n",
       "        vertical-align: top;\n",
       "    }\n",
       "\n",
       "    .dataframe thead th {\n",
       "        text-align: right;\n",
       "    }\n",
       "</style>\n",
       "<table border=\"1\" class=\"dataframe\">\n",
       "  <thead>\n",
       "    <tr style=\"text-align: right;\">\n",
       "      <th></th>\n",
       "    </tr>\n",
       "  </thead>\n",
       "  <tbody>\n",
       "    <tr>\n",
       "      <th>MIR1302-2HG</th>\n",
       "    </tr>\n",
       "    <tr>\n",
       "      <th>FAM138A</th>\n",
       "    </tr>\n",
       "    <tr>\n",
       "      <th>OR4F5</th>\n",
       "    </tr>\n",
       "    <tr>\n",
       "      <th>AL627309.1</th>\n",
       "    </tr>\n",
       "    <tr>\n",
       "      <th>AL627309.3</th>\n",
       "    </tr>\n",
       "  </tbody>\n",
       "</table>\n",
       "</div>"
      ],
      "text/plain": [
       "Empty DataFrame\n",
       "Columns: []\n",
       "Index: [MIR1302-2HG, FAM138A, OR4F5, AL627309.1, AL627309.3]"
      ]
     },
     "execution_count": 10,
     "metadata": {},
     "output_type": "execute_result"
    }
   ],
   "source": [
    "# Single cell data example\n",
    "data.var.head()"
   ]
  },
  {
   "cell_type": "code",
   "execution_count": 13,
   "metadata": {
    "ExecuteTime": {
     "end_time": "2019-06-05T14:06:58.715154Z",
     "start_time": "2019-06-05T14:06:58.641312Z"
    }
   },
   "outputs": [],
   "source": [
    "# A singlePython object is created. \n",
    "# This object keeps the original single cell data as an AnnData format (scanpy format).\n",
    "obj = SinglePython.SinglePythonObject(refDataset=refDataset,refAnnot=refAnnot,scData=data,fine_tuning=True,tuning_by=\"threshold\",multiProcess=True)"
   ]
  },
  {
   "cell_type": "code",
   "execution_count": 14,
   "metadata": {
    "ExecuteTime": {
     "end_time": "2019-06-05T14:08:25.254315Z",
     "start_time": "2019-06-05T14:06:58.913424Z"
    }
   },
   "outputs": [],
   "source": [
    "# The function below starts the annotation procedure.\n",
    "# The result is added as a observation to the original single cell AnnData object.\n",
    "obj.annotateCellTypes()"
   ]
  },
  {
   "cell_type": "code",
   "execution_count": 16,
   "metadata": {
    "ExecuteTime": {
     "end_time": "2019-06-05T14:08:38.603785Z",
     "start_time": "2019-06-05T14:08:38.593811Z"
    }
   },
   "outputs": [
    {
     "data": {
      "text/html": [
       "<div>\n",
       "<style scoped>\n",
       "    .dataframe tbody tr th:only-of-type {\n",
       "        vertical-align: middle;\n",
       "    }\n",
       "\n",
       "    .dataframe tbody tr th {\n",
       "        vertical-align: top;\n",
       "    }\n",
       "\n",
       "    .dataframe thead th {\n",
       "        text-align: right;\n",
       "    }\n",
       "</style>\n",
       "<table border=\"1\" class=\"dataframe\">\n",
       "  <thead>\n",
       "    <tr style=\"text-align: right;\">\n",
       "      <th></th>\n",
       "      <th>n_counts</th>\n",
       "      <th>n_genes</th>\n",
       "      <th>cell_type</th>\n",
       "    </tr>\n",
       "  </thead>\n",
       "  <tbody>\n",
       "    <tr>\n",
       "      <th>AAACCCAAGGAGAGTA-1</th>\n",
       "      <td>8288.0</td>\n",
       "      <td>2620</td>\n",
       "      <td>Monocyte</td>\n",
       "    </tr>\n",
       "    <tr>\n",
       "      <th>AAACGCTTCAGCCCAG-1</th>\n",
       "      <td>5512.0</td>\n",
       "      <td>1808</td>\n",
       "      <td>B_cells</td>\n",
       "    </tr>\n",
       "    <tr>\n",
       "      <th>AAAGAACAGACGACTG-1</th>\n",
       "      <td>4283.0</td>\n",
       "      <td>1562</td>\n",
       "      <td>T_cell/Memory</td>\n",
       "    </tr>\n",
       "    <tr>\n",
       "      <th>AAAGAACCAATGGCAG-1</th>\n",
       "      <td>2754.0</td>\n",
       "      <td>1225</td>\n",
       "      <td>T_cell/Memory</td>\n",
       "    </tr>\n",
       "    <tr>\n",
       "      <th>AAAGAACGTCTGCAAT-1</th>\n",
       "      <td>6592.0</td>\n",
       "      <td>1831</td>\n",
       "      <td>T_cell/Memory</td>\n",
       "    </tr>\n",
       "  </tbody>\n",
       "</table>\n",
       "</div>"
      ],
      "text/plain": [
       "                    n_counts  n_genes      cell_type\n",
       "AAACCCAAGGAGAGTA-1    8288.0     2620       Monocyte\n",
       "AAACGCTTCAGCCCAG-1    5512.0     1808        B_cells\n",
       "AAAGAACAGACGACTG-1    4283.0     1562  T_cell/Memory\n",
       "AAAGAACCAATGGCAG-1    2754.0     1225  T_cell/Memory\n",
       "AAAGAACGTCTGCAAT-1    6592.0     1831  T_cell/Memory"
      ]
     },
     "execution_count": 16,
     "metadata": {},
     "output_type": "execute_result"
    }
   ],
   "source": [
    "# The result can be obtained from AnnData object for further examinations.\n",
    "obj.scData.obs.head()"
   ]
  },
  {
   "cell_type": "code",
   "execution_count": null,
   "metadata": {},
   "outputs": [],
   "source": []
  },
  {
   "cell_type": "code",
   "execution_count": null,
   "metadata": {},
   "outputs": [],
   "source": []
  },
  {
   "cell_type": "code",
   "execution_count": null,
   "metadata": {
    "ExecuteTime": {
     "end_time": "2019-04-05T17:26:40.685537Z",
     "start_time": "2019-04-05T17:26:40.409254Z"
    }
   },
   "outputs": [],
   "source": []
  },
  {
   "cell_type": "code",
   "execution_count": null,
   "metadata": {
    "ExecuteTime": {
     "end_time": "2019-04-06T16:09:37.111572Z",
     "start_time": "2019-04-06T16:09:36.958965Z"
    }
   },
   "outputs": [],
   "source": []
  },
  {
   "cell_type": "code",
   "execution_count": null,
   "metadata": {
    "ExecuteTime": {
     "end_time": "2019-04-06T16:14:21.994031Z",
     "start_time": "2019-04-06T16:14:21.989056Z"
    }
   },
   "outputs": [],
   "source": []
  },
  {
   "cell_type": "code",
   "execution_count": null,
   "metadata": {
    "ExecuteTime": {
     "end_time": "2019-04-06T16:25:06.235859Z",
     "start_time": "2019-04-06T16:25:06.093239Z"
    }
   },
   "outputs": [],
   "source": []
  },
  {
   "cell_type": "code",
   "execution_count": null,
   "metadata": {
    "ExecuteTime": {
     "end_time": "2019-04-06T11:50:50.134507Z",
     "start_time": "2019-04-06T11:49:51.412030Z"
    }
   },
   "outputs": [],
   "source": []
  },
  {
   "cell_type": "code",
   "execution_count": null,
   "metadata": {
    "ExecuteTime": {
     "end_time": "2019-04-06T11:52:21.039997Z",
     "start_time": "2019-04-06T11:52:20.538784Z"
    }
   },
   "outputs": [],
   "source": []
  },
  {
   "cell_type": "code",
   "execution_count": null,
   "metadata": {},
   "outputs": [],
   "source": []
  },
  {
   "cell_type": "code",
   "execution_count": null,
   "metadata": {
    "ExecuteTime": {
     "end_time": "2019-02-10T16:58:48.187817Z",
     "start_time": "2019-02-10T16:58:48.176869Z"
    }
   },
   "outputs": [],
   "source": []
  },
  {
   "cell_type": "code",
   "execution_count": null,
   "metadata": {
    "ExecuteTime": {
     "end_time": "2019-02-10T16:58:48.199813Z",
     "start_time": "2019-02-10T16:58:48.189809Z"
    }
   },
   "outputs": [],
   "source": []
  },
  {
   "cell_type": "code",
   "execution_count": null,
   "metadata": {
    "ExecuteTime": {
     "end_time": "2019-02-10T16:58:55.604636Z",
     "start_time": "2019-02-10T16:58:48.201789Z"
    }
   },
   "outputs": [],
   "source": []
  }
 ],
 "metadata": {
  "hide_input": false,
  "kernelspec": {
   "display_name": "Python 3",
   "language": "python",
   "name": "python3"
  },
  "language_info": {
   "codemirror_mode": {
    "name": "ipython",
    "version": 3
   },
   "file_extension": ".py",
   "mimetype": "text/x-python",
   "name": "python",
   "nbconvert_exporter": "python",
   "pygments_lexer": "ipython3",
   "version": "3.7.0"
  },
  "toc": {
   "base_numbering": 1,
   "nav_menu": {},
   "number_sections": true,
   "sideBar": true,
   "skip_h1_title": false,
   "title_cell": "Table of Contents",
   "title_sidebar": "Contents",
   "toc_cell": false,
   "toc_position": {},
   "toc_section_display": true,
   "toc_window_display": false
  },
  "varInspector": {
   "cols": {
    "lenName": 16,
    "lenType": 16,
    "lenVar": 40
   },
   "kernels_config": {
    "python": {
     "delete_cmd_postfix": "",
     "delete_cmd_prefix": "del ",
     "library": "var_list.py",
     "varRefreshCmd": "print(var_dic_list())"
    },
    "r": {
     "delete_cmd_postfix": ") ",
     "delete_cmd_prefix": "rm(",
     "library": "var_list.r",
     "varRefreshCmd": "cat(var_dic_list()) "
    }
   },
   "types_to_exclude": [
    "module",
    "function",
    "builtin_function_or_method",
    "instance",
    "_Feature"
   ],
   "window_display": false
  }
 },
 "nbformat": 4,
 "nbformat_minor": 2
}
