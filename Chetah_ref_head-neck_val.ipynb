{
 "cells": [
  {
   "cell_type": "code",
   "execution_count": 1,
   "metadata": {
    "ExecuteTime": {
     "end_time": "2019-04-29T12:10:05.230108Z",
     "start_time": "2019-04-29T12:10:03.043746Z"
    }
   },
   "outputs": [],
   "source": [
    "import SinglePython\n",
    "import pandas as pd\n",
    "import numpy as np\n",
    "import utils\n",
    "import scipy"
   ]
  },
  {
   "cell_type": "code",
   "execution_count": 2,
   "metadata": {
    "ExecuteTime": {
     "end_time": "2019-04-29T12:10:05.817356Z",
     "start_time": "2019-04-29T12:10:05.244044Z"
    }
   },
   "outputs": [],
   "source": [
    "refDataset = pd.read_csv(\"./Data/Reference/CHETAH/chetah_ref_data.csv\", sep=\";\", decimal = \",\", index_col = 0)\n",
    "refDataset = refDataset.astype('float')\n",
    "\n",
    "annot = pd.read_csv(\"./Data/Reference/CHETAH/chetah_ref_annot.csv\",sep=\";\", index_col = 0)\n",
    "annot.columns = [\"level1\"]"
   ]
  },
  {
   "cell_type": "code",
   "execution_count": 3,
   "metadata": {
    "ExecuteTime": {
     "end_time": "2019-04-19T15:04:33.977539Z",
     "start_time": "2019-04-19T15:04:10.431750Z"
    }
   },
   "outputs": [],
   "source": [
    "data =utils.readSCData(\"C:/Users/murat_gga8ya6/Desktop/Thesis/Datasets/Smart-Seq2/Head-Neck/\",250)"
   ]
  },
  {
   "cell_type": "code",
   "execution_count": 8,
   "metadata": {
    "ExecuteTime": {
     "end_time": "2019-04-19T15:09:54.732542Z",
     "start_time": "2019-04-19T15:09:54.714590Z"
    }
   },
   "outputs": [],
   "source": [
    "obj = SinglePython.SinglePythonObject(refDataset=refDataset,annot=annot,scData=data,fine_tuning=True,tuning_by=\"threshold\",tuning_top_n=8)"
   ]
  },
  {
   "cell_type": "code",
   "execution_count": 9,
   "metadata": {
    "ExecuteTime": {
     "end_time": "2019-04-19T15:12:28.450636Z",
     "start_time": "2019-04-19T15:09:55.294938Z"
    }
   },
   "outputs": [],
   "source": [
    "result = obj.annotateCellTypes()"
   ]
  },
  {
   "cell_type": "code",
   "execution_count": 10,
   "metadata": {
    "ExecuteTime": {
     "end_time": "2019-04-19T15:12:28.550415Z",
     "start_time": "2019-04-19T15:12:28.534422Z"
    }
   },
   "outputs": [],
   "source": [
    "result.final_annotations = result.final_annotations.T\n",
    "result.final_annotations.columns = [\"level1\"]\n",
    "cell_type = pd.read_csv(\"C:/Users/murat_gga8ya6/Desktop/Thesis/Datasets/Smart-Seq2/Head-Neck/sc_annotations.csv\",sep=\",\", index_col = 0)\n",
    "cell_type.columns = [\"original\"]\n",
    "result.final_annotations[\"original\"] = cell_type[\"original\"]"
   ]
  },
  {
   "cell_type": "code",
   "execution_count": 11,
   "metadata": {
    "ExecuteTime": {
     "end_time": "2019-04-19T15:12:28.677116Z",
     "start_time": "2019-04-19T15:12:28.657085Z"
    }
   },
   "outputs": [],
   "source": [
    "result.final_annotations.to_csv(\"C:/Users/murat_gga8ya6/Desktop/Thesis/Validations/Head-Neck/SinglePython_threshold/Head-Neck_results.csv\")"
   ]
  },
  {
   "cell_type": "code",
   "execution_count": 3,
   "metadata": {
    "ExecuteTime": {
     "end_time": "2019-04-29T12:10:06.201365Z",
     "start_time": "2019-04-29T12:10:06.186379Z"
    }
   },
   "outputs": [
    {
     "data": {
      "text/html": [
       "<div>\n",
       "<style scoped>\n",
       "    .dataframe tbody tr th:only-of-type {\n",
       "        vertical-align: middle;\n",
       "    }\n",
       "\n",
       "    .dataframe tbody tr th {\n",
       "        vertical-align: top;\n",
       "    }\n",
       "\n",
       "    .dataframe thead th {\n",
       "        text-align: right;\n",
       "    }\n",
       "</style>\n",
       "<table border=\"1\" class=\"dataframe\">\n",
       "  <thead>\n",
       "    <tr style=\"text-align: right;\">\n",
       "      <th></th>\n",
       "      <th>level1</th>\n",
       "    </tr>\n",
       "  </thead>\n",
       "  <tbody>\n",
       "    <tr>\n",
       "      <th>HNSCC22_P2_pri_A03_S195_comb</th>\n",
       "      <td>Fibroblast</td>\n",
       "    </tr>\n",
       "    <tr>\n",
       "      <th>HN28_P3P4_G11_S83_comb</th>\n",
       "      <td>Fibroblast</td>\n",
       "    </tr>\n",
       "    <tr>\n",
       "      <th>HN28_P5_G12_S276_comb</th>\n",
       "      <td>Fibroblast</td>\n",
       "    </tr>\n",
       "    <tr>\n",
       "      <th>HNSCC25_P4_B12_S216_comb</th>\n",
       "      <td>Fibroblast</td>\n",
       "    </tr>\n",
       "    <tr>\n",
       "      <th>HNSCC28_P2_A04_S4_comb</th>\n",
       "      <td>Fibroblast</td>\n",
       "    </tr>\n",
       "    <tr>\n",
       "      <th>HNSCC_combo1_HNSCC_ComboP1_G07</th>\n",
       "      <td>Fibroblast</td>\n",
       "    </tr>\n",
       "    <tr>\n",
       "      <th>HN28_P6_H02_S182_comb</th>\n",
       "      <td>Fibroblast</td>\n",
       "    </tr>\n",
       "    <tr>\n",
       "      <th>HNSCC20_P1_A12_S12_comb</th>\n",
       "      <td>Fibroblast</td>\n",
       "    </tr>\n",
       "    <tr>\n",
       "      <th>HNSCC28_P13_G03_S267_comb</th>\n",
       "      <td>Fibroblast</td>\n",
       "    </tr>\n",
       "    <tr>\n",
       "      <th>HNSCC5_p9_HNSCC5_P9_H12</th>\n",
       "      <td>Fibroblast</td>\n",
       "    </tr>\n",
       "    <tr>\n",
       "      <th>HNSCC28_P2_D04_S40_comb</th>\n",
       "      <td>Fibroblast</td>\n",
       "    </tr>\n",
       "    <tr>\n",
       "      <th>HN28_P6_C05_S125_comb</th>\n",
       "      <td>Fibroblast</td>\n",
       "    </tr>\n",
       "    <tr>\n",
       "      <th>HNSCC25_P3_D11_S143_comb</th>\n",
       "      <td>Fibroblast</td>\n",
       "    </tr>\n",
       "    <tr>\n",
       "      <th>HN28_P6_A10_S106_comb</th>\n",
       "      <td>Fibroblast</td>\n",
       "    </tr>\n",
       "    <tr>\n",
       "      <th>HNSCC25_P3_C02_S122_comb</th>\n",
       "      <td>Fibroblast</td>\n",
       "    </tr>\n",
       "    <tr>\n",
       "      <th>HN28_P5_H07_S283_comb</th>\n",
       "      <td>Fibroblast</td>\n",
       "    </tr>\n",
       "    <tr>\n",
       "      <th>HNSCC5_p15_HNSCC5_P15_C12</th>\n",
       "      <td>Fibroblast</td>\n",
       "    </tr>\n",
       "    <tr>\n",
       "      <th>HNSCC25_P22_E02_S338_comb</th>\n",
       "      <td>Fibroblast</td>\n",
       "    </tr>\n",
       "    <tr>\n",
       "      <th>HNSCC18_P7_H02_S182_comb</th>\n",
       "      <td>Fibroblast</td>\n",
       "    </tr>\n",
       "    <tr>\n",
       "      <th>HNSCC26_P24_E04_S340_comb</th>\n",
       "      <td>Fibroblast</td>\n",
       "    </tr>\n",
       "    <tr>\n",
       "      <th>HNSCC10_p4_HNSCC10_P4_A12</th>\n",
       "      <td>B cell</td>\n",
       "    </tr>\n",
       "    <tr>\n",
       "      <th>HNSCC25_P20_H08_S380_comb</th>\n",
       "      <td>B cell</td>\n",
       "    </tr>\n",
       "    <tr>\n",
       "      <th>HNSCC25_P20_B02_S302_comb</th>\n",
       "      <td>B cell</td>\n",
       "    </tr>\n",
       "    <tr>\n",
       "      <th>HN28_P14_A04_S100_comb</th>\n",
       "      <td>B cell</td>\n",
       "    </tr>\n",
       "    <tr>\n",
       "      <th>HNSCC_combo2_HNSCC_ComboP2_B05</th>\n",
       "      <td>B cell</td>\n",
       "    </tr>\n",
       "    <tr>\n",
       "      <th>HNSCC10_p14_HNSCC10_P14_A06</th>\n",
       "      <td>B cell</td>\n",
       "    </tr>\n",
       "    <tr>\n",
       "      <th>HNSCC10_p4_HNSCC10_P4_H12</th>\n",
       "      <td>B cell</td>\n",
       "    </tr>\n",
       "    <tr>\n",
       "      <th>HNSCC10_p14_HNSCC10_P14_C04</th>\n",
       "      <td>B cell</td>\n",
       "    </tr>\n",
       "    <tr>\n",
       "      <th>HNSCC18_P7_A12_S108_comb</th>\n",
       "      <td>B cell</td>\n",
       "    </tr>\n",
       "    <tr>\n",
       "      <th>HNSCC10_p14_HNSCC10_P14_D07</th>\n",
       "      <td>B cell</td>\n",
       "    </tr>\n",
       "    <tr>\n",
       "      <th>...</th>\n",
       "      <td>...</td>\n",
       "    </tr>\n",
       "    <tr>\n",
       "      <th>HNSCC25_P4_D11_S239_comb</th>\n",
       "      <td>reg. T cell</td>\n",
       "    </tr>\n",
       "    <tr>\n",
       "      <th>HN23_P11_C09_S33_comb</th>\n",
       "      <td>reg. T cell</td>\n",
       "    </tr>\n",
       "    <tr>\n",
       "      <th>HNSCC13_p19_HNSCC13_P19_H09</th>\n",
       "      <td>reg. T cell</td>\n",
       "    </tr>\n",
       "    <tr>\n",
       "      <th>HNSCC25_P12_H04_S184_comb</th>\n",
       "      <td>reg. T cell</td>\n",
       "    </tr>\n",
       "    <tr>\n",
       "      <th>HNSCC16_P14_HNSCC16_P14_B05</th>\n",
       "      <td>reg. T cell</td>\n",
       "    </tr>\n",
       "    <tr>\n",
       "      <th>HN23_P11_H12_S96_comb</th>\n",
       "      <td>reg. T cell</td>\n",
       "    </tr>\n",
       "    <tr>\n",
       "      <th>HN23_P11_D10_S46_comb</th>\n",
       "      <td>reg. T cell</td>\n",
       "    </tr>\n",
       "    <tr>\n",
       "      <th>HNSCC_17_P9_A07_S7_comb</th>\n",
       "      <td>reg. T cell</td>\n",
       "    </tr>\n",
       "    <tr>\n",
       "      <th>HNSCC16_P12_HNSCC16_P12_A07</th>\n",
       "      <td>reg. T cell</td>\n",
       "    </tr>\n",
       "    <tr>\n",
       "      <th>HNSCC16_P12_HNSCC16_P12_B08</th>\n",
       "      <td>reg. T cell</td>\n",
       "    </tr>\n",
       "    <tr>\n",
       "      <th>HNSCC_17_P9_D11_S47_comb</th>\n",
       "      <td>CD8 T cell</td>\n",
       "    </tr>\n",
       "    <tr>\n",
       "      <th>HNSCC_17_P10_F11_S263_comb</th>\n",
       "      <td>CD8 T cell</td>\n",
       "    </tr>\n",
       "    <tr>\n",
       "      <th>HNSCC_17_P9_G06_S78_comb</th>\n",
       "      <td>CD8 T cell</td>\n",
       "    </tr>\n",
       "    <tr>\n",
       "      <th>HN25_P13P30_E05_S245_comb</th>\n",
       "      <td>CD8 T cell</td>\n",
       "    </tr>\n",
       "    <tr>\n",
       "      <th>HN25_P13P30_A05_S197_comb</th>\n",
       "      <td>CD8 T cell</td>\n",
       "    </tr>\n",
       "    <tr>\n",
       "      <th>HNSCC_17_P9_F12_S72_comb</th>\n",
       "      <td>CD8 T cell</td>\n",
       "    </tr>\n",
       "    <tr>\n",
       "      <th>HN25_P13P30_E07_S247_comb</th>\n",
       "      <td>CD8 T cell</td>\n",
       "    </tr>\n",
       "    <tr>\n",
       "      <th>HN23_P11_G10_S82_comb</th>\n",
       "      <td>CD8 T cell</td>\n",
       "    </tr>\n",
       "    <tr>\n",
       "      <th>HNSCC17_P8_HNSCC17_P8_C12</th>\n",
       "      <td>CD8 T cell</td>\n",
       "    </tr>\n",
       "    <tr>\n",
       "      <th>HNSCC16_P12_HNSCC16_P12_B06</th>\n",
       "      <td>CD8 T cell</td>\n",
       "    </tr>\n",
       "    <tr>\n",
       "      <th>HNSCC16_P14_HNSCC16_P14_H03</th>\n",
       "      <td>CD8 T cell</td>\n",
       "    </tr>\n",
       "    <tr>\n",
       "      <th>HN25_P13P30_B09_S213_comb</th>\n",
       "      <td>CD8 T cell</td>\n",
       "    </tr>\n",
       "    <tr>\n",
       "      <th>HN23_P11_E08_S56_comb</th>\n",
       "      <td>CD8 T cell</td>\n",
       "    </tr>\n",
       "    <tr>\n",
       "      <th>HNSCC_17_P10_E04_S244_comb</th>\n",
       "      <td>CD8 T cell</td>\n",
       "    </tr>\n",
       "    <tr>\n",
       "      <th>HNSCC18_P16_G09_S273_comb</th>\n",
       "      <td>CD8 T cell</td>\n",
       "    </tr>\n",
       "    <tr>\n",
       "      <th>HNSCC16_P11_HNSCC16_P11_G07</th>\n",
       "      <td>CD8 T cell</td>\n",
       "    </tr>\n",
       "    <tr>\n",
       "      <th>HNSCC16_P14_HNSCC16_P14_F01</th>\n",
       "      <td>CD8 T cell</td>\n",
       "    </tr>\n",
       "    <tr>\n",
       "      <th>HNSCC12_p19_HNSCC12_P19_H03</th>\n",
       "      <td>CD8 T cell</td>\n",
       "    </tr>\n",
       "    <tr>\n",
       "      <th>HNSCC_17_P10_E03_S243_comb</th>\n",
       "      <td>CD8 T cell</td>\n",
       "    </tr>\n",
       "    <tr>\n",
       "      <th>HNSCC12_p18_HNSCC12_P18_C09</th>\n",
       "      <td>CD8 T cell</td>\n",
       "    </tr>\n",
       "  </tbody>\n",
       "</table>\n",
       "<p>180 rows × 1 columns</p>\n",
       "</div>"
      ],
      "text/plain": [
       "                                     level1\n",
       "HNSCC22_P2_pri_A03_S195_comb     Fibroblast\n",
       "HN28_P3P4_G11_S83_comb           Fibroblast\n",
       "HN28_P5_G12_S276_comb            Fibroblast\n",
       "HNSCC25_P4_B12_S216_comb         Fibroblast\n",
       "HNSCC28_P2_A04_S4_comb           Fibroblast\n",
       "HNSCC_combo1_HNSCC_ComboP1_G07   Fibroblast\n",
       "HN28_P6_H02_S182_comb            Fibroblast\n",
       "HNSCC20_P1_A12_S12_comb          Fibroblast\n",
       "HNSCC28_P13_G03_S267_comb        Fibroblast\n",
       "HNSCC5_p9_HNSCC5_P9_H12          Fibroblast\n",
       "HNSCC28_P2_D04_S40_comb          Fibroblast\n",
       "HN28_P6_C05_S125_comb            Fibroblast\n",
       "HNSCC25_P3_D11_S143_comb         Fibroblast\n",
       "HN28_P6_A10_S106_comb            Fibroblast\n",
       "HNSCC25_P3_C02_S122_comb         Fibroblast\n",
       "HN28_P5_H07_S283_comb            Fibroblast\n",
       "HNSCC5_p15_HNSCC5_P15_C12        Fibroblast\n",
       "HNSCC25_P22_E02_S338_comb        Fibroblast\n",
       "HNSCC18_P7_H02_S182_comb         Fibroblast\n",
       "HNSCC26_P24_E04_S340_comb        Fibroblast\n",
       "HNSCC10_p4_HNSCC10_P4_A12            B cell\n",
       "HNSCC25_P20_H08_S380_comb            B cell\n",
       "HNSCC25_P20_B02_S302_comb            B cell\n",
       "HN28_P14_A04_S100_comb               B cell\n",
       "HNSCC_combo2_HNSCC_ComboP2_B05       B cell\n",
       "HNSCC10_p14_HNSCC10_P14_A06          B cell\n",
       "HNSCC10_p4_HNSCC10_P4_H12            B cell\n",
       "HNSCC10_p14_HNSCC10_P14_C04          B cell\n",
       "HNSCC18_P7_A12_S108_comb             B cell\n",
       "HNSCC10_p14_HNSCC10_P14_D07          B cell\n",
       "...                                     ...\n",
       "HNSCC25_P4_D11_S239_comb        reg. T cell\n",
       "HN23_P11_C09_S33_comb           reg. T cell\n",
       "HNSCC13_p19_HNSCC13_P19_H09     reg. T cell\n",
       "HNSCC25_P12_H04_S184_comb       reg. T cell\n",
       "HNSCC16_P14_HNSCC16_P14_B05     reg. T cell\n",
       "HN23_P11_H12_S96_comb           reg. T cell\n",
       "HN23_P11_D10_S46_comb           reg. T cell\n",
       "HNSCC_17_P9_A07_S7_comb         reg. T cell\n",
       "HNSCC16_P12_HNSCC16_P12_A07     reg. T cell\n",
       "HNSCC16_P12_HNSCC16_P12_B08     reg. T cell\n",
       "HNSCC_17_P9_D11_S47_comb         CD8 T cell\n",
       "HNSCC_17_P10_F11_S263_comb       CD8 T cell\n",
       "HNSCC_17_P9_G06_S78_comb         CD8 T cell\n",
       "HN25_P13P30_E05_S245_comb        CD8 T cell\n",
       "HN25_P13P30_A05_S197_comb        CD8 T cell\n",
       "HNSCC_17_P9_F12_S72_comb         CD8 T cell\n",
       "HN25_P13P30_E07_S247_comb        CD8 T cell\n",
       "HN23_P11_G10_S82_comb            CD8 T cell\n",
       "HNSCC17_P8_HNSCC17_P8_C12        CD8 T cell\n",
       "HNSCC16_P12_HNSCC16_P12_B06      CD8 T cell\n",
       "HNSCC16_P14_HNSCC16_P14_H03      CD8 T cell\n",
       "HN25_P13P30_B09_S213_comb        CD8 T cell\n",
       "HN23_P11_E08_S56_comb            CD8 T cell\n",
       "HNSCC_17_P10_E04_S244_comb       CD8 T cell\n",
       "HNSCC18_P16_G09_S273_comb        CD8 T cell\n",
       "HNSCC16_P11_HNSCC16_P11_G07      CD8 T cell\n",
       "HNSCC16_P14_HNSCC16_P14_F01      CD8 T cell\n",
       "HNSCC12_p19_HNSCC12_P19_H03      CD8 T cell\n",
       "HNSCC_17_P10_E03_S243_comb       CD8 T cell\n",
       "HNSCC12_p18_HNSCC12_P18_C09      CD8 T cell\n",
       "\n",
       "[180 rows x 1 columns]"
      ]
     },
     "execution_count": 3,
     "metadata": {},
     "output_type": "execute_result"
    }
   ],
   "source": [
    "annot"
   ]
  },
  {
   "cell_type": "code",
   "execution_count": null,
   "metadata": {
    "ExecuteTime": {
     "end_time": "2019-02-06T12:58:33.470973Z",
     "start_time": "2019-02-06T12:58:33.459005Z"
    }
   },
   "outputs": [],
   "source": []
  },
  {
   "cell_type": "code",
   "execution_count": null,
   "metadata": {
    "ExecuteTime": {
     "end_time": "2019-02-06T13:38:43.971611Z",
     "start_time": "2019-02-06T13:36:46.980248Z"
    },
    "scrolled": true
   },
   "outputs": [],
   "source": []
  },
  {
   "cell_type": "code",
   "execution_count": null,
   "metadata": {
    "ExecuteTime": {
     "end_time": "2019-02-10T10:03:04.605972Z",
     "start_time": "2019-02-10T10:02:55.632078Z"
    }
   },
   "outputs": [],
   "source": []
  },
  {
   "cell_type": "code",
   "execution_count": null,
   "metadata": {
    "ExecuteTime": {
     "end_time": "2019-02-10T10:07:04.866894Z",
     "start_time": "2019-02-10T10:07:04.809334Z"
    },
    "scrolled": true
   },
   "outputs": [],
   "source": []
  },
  {
   "cell_type": "code",
   "execution_count": null,
   "metadata": {
    "ExecuteTime": {
     "end_time": "2019-02-10T10:07:09.032581Z",
     "start_time": "2019-02-10T10:07:08.959770Z"
    }
   },
   "outputs": [],
   "source": []
  },
  {
   "cell_type": "code",
   "execution_count": null,
   "metadata": {
    "ExecuteTime": {
     "end_time": "2019-02-10T10:05:31.459290Z",
     "start_time": "2019-02-10T10:05:21.806937Z"
    }
   },
   "outputs": [],
   "source": []
  },
  {
   "cell_type": "code",
   "execution_count": null,
   "metadata": {
    "ExecuteTime": {
     "end_time": "2019-04-03T07:19:37.176826Z",
     "start_time": "2019-04-03T07:19:37.172804Z"
    }
   },
   "outputs": [],
   "source": []
  },
  {
   "cell_type": "code",
   "execution_count": null,
   "metadata": {
    "ExecuteTime": {
     "end_time": "2019-04-03T07:20:39.415407Z",
     "start_time": "2019-04-03T07:20:39.401407Z"
    }
   },
   "outputs": [],
   "source": []
  },
  {
   "cell_type": "code",
   "execution_count": null,
   "metadata": {
    "ExecuteTime": {
     "end_time": "2019-04-03T07:21:41.122076Z",
     "start_time": "2019-04-03T07:21:41.110109Z"
    }
   },
   "outputs": [],
   "source": []
  },
  {
   "cell_type": "code",
   "execution_count": null,
   "metadata": {
    "ExecuteTime": {
     "start_time": "2019-02-06T12:15:11.074Z"
    }
   },
   "outputs": [],
   "source": []
  },
  {
   "cell_type": "code",
   "execution_count": null,
   "metadata": {
    "ExecuteTime": {
     "start_time": "2019-02-06T12:33:04.708Z"
    }
   },
   "outputs": [],
   "source": []
  },
  {
   "cell_type": "code",
   "execution_count": null,
   "metadata": {
    "ExecuteTime": {
     "start_time": "2019-02-06T13:28:54.635Z"
    }
   },
   "outputs": [],
   "source": []
  },
  {
   "cell_type": "code",
   "execution_count": null,
   "metadata": {
    "ExecuteTime": {
     "end_time": "2019-02-06T12:43:10.404076Z",
     "start_time": "2019-02-06T12:43:10.400079Z"
    }
   },
   "outputs": [],
   "source": []
  },
  {
   "cell_type": "code",
   "execution_count": null,
   "metadata": {
    "ExecuteTime": {
     "end_time": "2018-10-24T18:46:20.279784Z",
     "start_time": "2018-10-24T18:46:20.271752Z"
    }
   },
   "outputs": [],
   "source": []
  },
  {
   "cell_type": "code",
   "execution_count": null,
   "metadata": {
    "ExecuteTime": {
     "end_time": "2018-10-24T18:47:46.665363Z",
     "start_time": "2018-10-24T18:47:46.612881Z"
    }
   },
   "outputs": [],
   "source": []
  },
  {
   "cell_type": "code",
   "execution_count": null,
   "metadata": {
    "ExecuteTime": {
     "end_time": "2018-10-24T18:48:29.925333Z",
     "start_time": "2018-10-24T18:48:29.897087Z"
    }
   },
   "outputs": [],
   "source": []
  },
  {
   "cell_type": "code",
   "execution_count": null,
   "metadata": {
    "ExecuteTime": {
     "end_time": "2018-10-24T18:52:56.235555Z",
     "start_time": "2018-10-24T18:52:56.215066Z"
    }
   },
   "outputs": [],
   "source": []
  },
  {
   "cell_type": "code",
   "execution_count": null,
   "metadata": {
    "ExecuteTime": {
     "end_time": "2018-10-24T18:55:30.150494Z",
     "start_time": "2018-10-24T18:55:30.130296Z"
    }
   },
   "outputs": [],
   "source": []
  },
  {
   "cell_type": "code",
   "execution_count": null,
   "metadata": {
    "ExecuteTime": {
     "end_time": "2018-10-24T17:48:22.426001Z",
     "start_time": "2018-10-24T17:48:22.280593Z"
    }
   },
   "outputs": [],
   "source": []
  },
  {
   "cell_type": "code",
   "execution_count": null,
   "metadata": {
    "ExecuteTime": {
     "end_time": "2018-10-24T17:47:45.456492Z",
     "start_time": "2018-10-24T17:47:45.434520Z"
    }
   },
   "outputs": [],
   "source": []
  }
 ],
 "metadata": {
  "hide_input": false,
  "kernelspec": {
   "display_name": "Python 3",
   "language": "python",
   "name": "python3"
  },
  "language_info": {
   "codemirror_mode": {
    "name": "ipython",
    "version": 3
   },
   "file_extension": ".py",
   "mimetype": "text/x-python",
   "name": "python",
   "nbconvert_exporter": "python",
   "pygments_lexer": "ipython3",
   "version": "3.7.0"
  },
  "toc": {
   "base_numbering": 1,
   "nav_menu": {},
   "number_sections": true,
   "sideBar": true,
   "skip_h1_title": false,
   "title_cell": "Table of Contents",
   "title_sidebar": "Contents",
   "toc_cell": false,
   "toc_position": {},
   "toc_section_display": true,
   "toc_window_display": false
  },
  "varInspector": {
   "cols": {
    "lenName": 16,
    "lenType": 16,
    "lenVar": 40
   },
   "kernels_config": {
    "python": {
     "delete_cmd_postfix": "",
     "delete_cmd_prefix": "del ",
     "library": "var_list.py",
     "varRefreshCmd": "print(var_dic_list())"
    },
    "r": {
     "delete_cmd_postfix": ") ",
     "delete_cmd_prefix": "rm(",
     "library": "var_list.r",
     "varRefreshCmd": "cat(var_dic_list()) "
    }
   },
   "types_to_exclude": [
    "module",
    "function",
    "builtin_function_or_method",
    "instance",
    "_Feature"
   ],
   "window_display": false
  }
 },
 "nbformat": 4,
 "nbformat_minor": 2
}
