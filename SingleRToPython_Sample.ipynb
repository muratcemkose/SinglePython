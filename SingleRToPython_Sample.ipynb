{
 "cells": [
  {
   "cell_type": "code",
   "execution_count": 1,
   "metadata": {
    "ExecuteTime": {
     "end_time": "2018-12-03T18:00:58.096770Z",
     "start_time": "2018-12-03T18:00:45.419876Z"
    }
   },
   "outputs": [],
   "source": [
    "import SinglePython\n",
    "import pandas as pd\n",
    "import numpy as np"
   ]
  },
  {
   "cell_type": "code",
   "execution_count": 2,
   "metadata": {},
   "outputs": [],
   "source": [
    "#Reference dataset is the one that SingleR uses.\n",
    "refDataset = pd.read_csv(\"./Data/Reference/hpca_data.csv\", sep=\";\", decimal = \",\", index_col = 0)\n",
    "refDataset = refDataset.astype('float', copy=False)\n",
    "\n",
    "annot = pd.read_csv(\"./Data/Reference/hpca_annot.csv\",sep=\";\", index_col = 0)\n",
    "annot.columns=[\"cellType\"]"
   ]
  },
  {
   "cell_type": "code",
   "execution_count": 3,
   "metadata": {},
   "outputs": [
    {
     "data": {
      "text/plain": [
       "Index(['A1BG', 'A1BG-AS1', 'A1CF', 'A2M', 'A2M-AS1', 'A2ML1', 'A4GALT',\n",
       "       'A4GNT', 'AAAS', 'AACS',\n",
       "       ...\n",
       "       'ZWILCH', 'ZWINT', 'ZXDA', 'ZXDB', 'ZXDC', 'ZYG11A', 'ZYG11B', 'ZYX',\n",
       "       'ZZEF1', 'ZZZ3'],\n",
       "      dtype='object', length=19363)"
      ]
     },
     "execution_count": 3,
     "metadata": {},
     "output_type": "execute_result"
    }
   ],
   "source": [
    "refDataset.index"
   ]
  },
  {
   "cell_type": "code",
   "execution_count": 11,
   "metadata": {},
   "outputs": [
    {
     "name": "stderr",
     "output_type": "stream",
     "text": [
      "Variable names are not unique. To make them unique, call `.var_names_make_unique`.\n"
     ]
    }
   ],
   "source": [
    "#An example for a single experiment\n",
    "data = SinglePython.SinglePythonObject(\"./Data/Single_cell/b_cells_filtered_gene_bc_matrices/\", refDataset, \n",
    "                                       annot, fine_tuning=True, tuning_by=\"top_n\")\n",
    "#I merged many experiments with the same method by myself but an additional method can be added for that.\n",
    "#data.sc_data = pd.read_csv(\"./Data/Single_cell/Sample_sc.txt\", index_col = 0)\n"
   ]
  },
  {
   "cell_type": "code",
   "execution_count": 12,
   "metadata": {},
   "outputs": [
    {
     "name": "stdout",
     "output_type": "stream",
     "text": [
      "Index(['A1BG', 'A1BG-AS1', 'A1CF', 'A2M', 'A2M-AS1', 'A2ML1', 'A4GALT',\n",
      "       'A4GNT', 'AAAS', 'AACS',\n",
      "       ...\n",
      "       'ZWILCH', 'ZWINT', 'ZXDA', 'ZXDB', 'ZXDC', 'ZYG11A', 'ZYG11B', 'ZYX',\n",
      "       'ZZEF1', 'ZZZ3'],\n",
      "      dtype='object', length=19363)\n"
     ]
    },
    {
     "name": "stderr",
     "output_type": "stream",
     "text": [
      "/projects/processedData/2018/IDV/fnabs_single_cell/data_merging/singler/SingleRToPython/tuning.py:42: FutureWarning: by argument to sort_index is deprecated, please use .sort_values(by=...)\n",
      "  [d.update({i:np.sort(scores.sort_index(by=i,ascending=False).index.values[0:n])}) for i in scores.columns]\n",
      "/projects/processedData/2018/IDV/fnabs_single_cell/data_merging/singler/SingleRToPython/tuning.py:100: FutureWarning: by argument to sort_index is deprecated, please use .sort_values(by=...)\n",
      "  return [scores.sort_index(by=i,ascending=False).index.values[0:len(top_labels)-1] for i in scores.columns]\n"
     ]
    }
   ],
   "source": [
    "res = data.AnnotateCellTypes()"
   ]
  },
  {
   "cell_type": "code",
   "execution_count": 13,
   "metadata": {},
   "outputs": [
    {
     "data": {
      "text/html": [
       "<div>\n",
       "<style scoped>\n",
       "    .dataframe tbody tr th:only-of-type {\n",
       "        vertical-align: middle;\n",
       "    }\n",
       "\n",
       "    .dataframe tbody tr th {\n",
       "        vertical-align: top;\n",
       "    }\n",
       "\n",
       "    .dataframe thead th {\n",
       "        text-align: right;\n",
       "    }\n",
       "</style>\n",
       "<table border=\"1\" class=\"dataframe\">\n",
       "  <thead>\n",
       "    <tr style=\"text-align: right;\">\n",
       "      <th></th>\n",
       "      <th>AAACATACAATGCC-1</th>\n",
       "      <th>AAACATACACGCAT-1</th>\n",
       "      <th>AAACATACGAATAG-1</th>\n",
       "      <th>AAACATACGTGTCA-1</th>\n",
       "      <th>AAACATTGGCCCTT-1</th>\n",
       "      <th>AAACATTGTTTGGG-1</th>\n",
       "      <th>AAACCGTGGGGACA-1</th>\n",
       "      <th>AAACCGTGTGCATG-1</th>\n",
       "      <th>AAACGCACCCAGTA-1</th>\n",
       "      <th>AAACGCACGCCCTT-1</th>\n",
       "      <th>...</th>\n",
       "      <th>TTTCTACTTACAGC-1</th>\n",
       "      <th>TTTGACTGCCTAAG-1</th>\n",
       "      <th>TTTGACTGCTTGCC-1</th>\n",
       "      <th>TTTGACTGCTTGTT-1</th>\n",
       "      <th>TTTGACTGGAATGA-1</th>\n",
       "      <th>TTTGACTGGATAGA-1</th>\n",
       "      <th>TTTGACTGGGAAAT-1</th>\n",
       "      <th>TTTGCATGAGAGTA-1</th>\n",
       "      <th>TTTGCATGCTCGCT-1</th>\n",
       "      <th>TTTGCATGTAAGCC-1</th>\n",
       "    </tr>\n",
       "  </thead>\n",
       "  <tbody>\n",
       "    <tr>\n",
       "      <th>final_annotations</th>\n",
       "      <td>B_cell:immature</td>\n",
       "      <td>B_cell:Memory</td>\n",
       "      <td>B_cell:immature</td>\n",
       "      <td>B_cell:immature</td>\n",
       "      <td>B_cell</td>\n",
       "      <td>B_cell:immature</td>\n",
       "      <td>B_cell:Naive</td>\n",
       "      <td>B_cell:immature</td>\n",
       "      <td>B_cell:immature</td>\n",
       "      <td>B_cell:Naive</td>\n",
       "      <td>...</td>\n",
       "      <td>B_cell:immature</td>\n",
       "      <td>B_cell:Memory</td>\n",
       "      <td>B_cell:Naive</td>\n",
       "      <td>B_cell:Naive</td>\n",
       "      <td>B_cell:Naive</td>\n",
       "      <td>B_cell:immature</td>\n",
       "      <td>B_cell:Naive</td>\n",
       "      <td>B_cell:Memory</td>\n",
       "      <td>B_cell:Memory</td>\n",
       "      <td>B_cell:immature</td>\n",
       "    </tr>\n",
       "  </tbody>\n",
       "</table>\n",
       "<p>1 rows × 4292 columns</p>\n",
       "</div>"
      ],
      "text/plain": [
       "                  AAACATACAATGCC-1 AAACATACACGCAT-1 AAACATACGAATAG-1  \\\n",
       "final_annotations  B_cell:immature    B_cell:Memory  B_cell:immature   \n",
       "\n",
       "                  AAACATACGTGTCA-1 AAACATTGGCCCTT-1 AAACATTGTTTGGG-1  \\\n",
       "final_annotations  B_cell:immature           B_cell  B_cell:immature   \n",
       "\n",
       "                  AAACCGTGGGGACA-1 AAACCGTGTGCATG-1 AAACGCACCCAGTA-1  \\\n",
       "final_annotations     B_cell:Naive  B_cell:immature  B_cell:immature   \n",
       "\n",
       "                  AAACGCACGCCCTT-1       ...        TTTCTACTTACAGC-1  \\\n",
       "final_annotations     B_cell:Naive       ...         B_cell:immature   \n",
       "\n",
       "                  TTTGACTGCCTAAG-1 TTTGACTGCTTGCC-1 TTTGACTGCTTGTT-1  \\\n",
       "final_annotations    B_cell:Memory     B_cell:Naive     B_cell:Naive   \n",
       "\n",
       "                  TTTGACTGGAATGA-1 TTTGACTGGATAGA-1 TTTGACTGGGAAAT-1  \\\n",
       "final_annotations     B_cell:Naive  B_cell:immature     B_cell:Naive   \n",
       "\n",
       "                  TTTGCATGAGAGTA-1 TTTGCATGCTCGCT-1 TTTGCATGTAAGCC-1  \n",
       "final_annotations    B_cell:Memory    B_cell:Memory  B_cell:immature  \n",
       "\n",
       "[1 rows x 4292 columns]"
      ]
     },
     "execution_count": 13,
     "metadata": {},
     "output_type": "execute_result"
    }
   ],
   "source": [
    "res.final_annotations"
   ]
  },
  {
   "cell_type": "code",
   "execution_count": 7,
   "metadata": {
    "ExecuteTime": {
     "end_time": "2018-12-03T18:00:58.116684Z",
     "start_time": "2018-12-03T18:00:58.110709Z"
    }
   },
   "outputs": [
    {
     "name": "stdout",
     "output_type": "stream",
     "text": [
      "Help on class SinglePythonObject in module SinglePython:\n",
      "\n",
      "class SinglePythonObject(builtins.object)\n",
      " |  SinglePythonObject(sc_location, refDataset, annot=None, fine_tuning=False, tuning_by='top_n', tuning_threshold=0.05, tuning_top_n=7, min_gene_th=500, de_genes_n=None)\n",
      " |  \n",
      " |  Methods defined here:\n",
      " |  \n",
      " |  AnnotateCellTypes(self)\n",
      " |      Finds best annotation for single cells and Returns a Result object.\n",
      " |  \n",
      " |  __init__(self, sc_location, refDataset, annot=None, fine_tuning=False, tuning_by='top_n', tuning_threshold=0.05, tuning_top_n=7, min_gene_th=500, de_genes_n=None)\n",
      " |      Contructor function for SinglePython class.\n",
      " |      \n",
      " |      Parameters\n",
      " |      ----------\n",
      " |      sc_location : Str\n",
      " |          the location of sc-RNAseq data.\n",
      " |          \n",
      " |      refDataset : DataFrame\n",
      " |          The reference dataset gene expression matrix.\n",
      " |          \n",
      " |      annot : DataFrame\n",
      " |          Annotations for each column in ref_data.\n",
      " |          \n",
      " |      fine_tuning : Boolean\n",
      " |          If fine tuning will be applied.\n",
      " |          \n",
      " |      tuning_by : Str\n",
      " |          There are two tuning options. It can be ither done by taking top n most correlated cell types after\n",
      " |          the initial annotation (top_n) or setting a minimum threshold value to select cell types for tuning \n",
      " |          (threshod). The default value is top_n.\n",
      " |          \n",
      " |      tuning_threshold : Float\n",
      " |          The threshold value for the selection of cell types for \"threshold\" tuning. Default value is 0.05.\n",
      " |          \n",
      " |      tuning_top_n : Int\n",
      " |          The number of top correlated cell types to be selected for \"top_n\" tuning. Default value is 7. \n",
      " |          \n",
      " |      min_gene_th : Int\n",
      " |          Minimum gene threshold for genes that have expression more than zero. It is necessary to determine\n",
      " |          which cells to contribute to the analysis.\n",
      " |          \n",
      " |      de_genes_n : Int\n",
      " |          The number of top differentially expressed genes to be chosen for the analysis.\n",
      " |  \n",
      " |  ----------------------------------------------------------------------\n",
      " |  Data descriptors defined here:\n",
      " |  \n",
      " |  __dict__\n",
      " |      dictionary for instance variables (if defined)\n",
      " |  \n",
      " |  __weakref__\n",
      " |      list of weak references to the object (if defined)\n",
      "\n"
     ]
    }
   ],
   "source": [
    "#For details of parameters\n",
    "help(SinglePython.SinglePythonObject)"
   ]
  },
  {
   "cell_type": "code",
   "execution_count": null,
   "metadata": {},
   "outputs": [],
   "source": []
  }
 ],
 "metadata": {
  "hide_input": false,
  "kernelspec": {
   "display_name": "Mpop",
   "language": "python",
   "name": "mpop"
  },
  "language_info": {
   "codemirror_mode": {
    "name": "ipython",
    "version": 3
   },
   "file_extension": ".py",
   "mimetype": "text/x-python",
   "name": "python",
   "nbconvert_exporter": "python",
   "pygments_lexer": "ipython3",
   "version": "3.7.1"
  },
  "toc": {
   "base_numbering": 1,
   "nav_menu": {},
   "number_sections": true,
   "sideBar": true,
   "skip_h1_title": false,
   "title_cell": "Table of Contents",
   "title_sidebar": "Contents",
   "toc_cell": false,
   "toc_position": {},
   "toc_section_display": true,
   "toc_window_display": false
  },
  "varInspector": {
   "cols": {
    "lenName": 16,
    "lenType": 16,
    "lenVar": 40
   },
   "kernels_config": {
    "python": {
     "delete_cmd_postfix": "",
     "delete_cmd_prefix": "del ",
     "library": "var_list.py",
     "varRefreshCmd": "print(var_dic_list())"
    },
    "r": {
     "delete_cmd_postfix": ") ",
     "delete_cmd_prefix": "rm(",
     "library": "var_list.r",
     "varRefreshCmd": "cat(var_dic_list()) "
    }
   },
   "types_to_exclude": [
    "module",
    "function",
    "builtin_function_or_method",
    "instance",
    "_Feature"
   ],
   "window_display": false
  }
 },
 "nbformat": 4,
 "nbformat_minor": 2
}
