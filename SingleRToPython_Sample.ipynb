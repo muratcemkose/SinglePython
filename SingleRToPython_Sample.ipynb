{
 "cells": [
  {
   "cell_type": "code",
   "execution_count": 2,
   "metadata": {
    "ExecuteTime": {
     "end_time": "2018-12-03T18:00:58.096770Z",
     "start_time": "2018-12-03T18:00:45.419876Z"
    }
   },
   "outputs": [],
   "source": [
    "from SingleRToPython import SinglePython\n",
    "import pandas as pd\n",
    "import numpy as np"
   ]
  },
  {
   "cell_type": "code",
   "execution_count": null,
   "metadata": {},
   "outputs": [],
   "source": [
    "#Reference dataset is the one that SingleR uses.\n",
    "refDataset=pd.DataFrame.from_csv(\"C:\\\\Users\\\\murat_gga8ya6\\\\Desktop\\\\Thesis\\\\hpca_data.csv\",sep=\";\")\n",
    "refDataset=refDataset.replace(',','.', regex=True)\n",
    "refDataset=refDataset.astype(float)\n",
    "annot=pd.DataFrame.from_csv(\"C:\\\\Users\\\\murat_gga8ya6\\\\Desktop\\\\Thesis\\\\hpca_annot.csv\",sep=\";\")\n",
    "annot.columns=[\"cellType\"]"
   ]
  },
  {
   "cell_type": "code",
   "execution_count": null,
   "metadata": {},
   "outputs": [],
   "source": [
    "#An example for a single experiment\n",
    "data=SinglePython.SinglePythonObject(\"C:\\\\Users\\\\murat_gga8ya6\\\\Desktop\\\\Thesis\\\\Datasets\\\\b_cells_filtered_gene_bc_matrice\\\\\",refDataset,annot,fine_tuning=True,tuning_by=\"top_n\")\n",
    "#I merged many experiments with the same method by myself but an additional method can be added for that.\n",
    "data.sc_data=pd.DataFrame.from_csv(\"C:\\\\Users\\\\murat_gga8ya6\\\\Desktop\\\\Thesis\\\\Datasets\\\\Sample_sc.txt\")\n",
    "res=data.AnnotateCellTypes()"
   ]
  },
  {
   "cell_type": "code",
   "execution_count": 3,
   "metadata": {
    "ExecuteTime": {
     "end_time": "2018-12-03T18:00:58.116684Z",
     "start_time": "2018-12-03T18:00:58.110709Z"
    }
   },
   "outputs": [
    {
     "name": "stdout",
     "output_type": "stream",
     "text": [
      "Help on class SinglePythonObject in module SingleRToPython.SinglePython:\n",
      "\n",
      "class SinglePythonObject(builtins.object)\n",
      " |  SinglePythonObject(sc_location, refDataset, annot=None, fine_tuning=False, tuning_by='top_n', tuning_threshold=0.05, tuning_top_n=7, min_gene_th=500, de_genes_n=None)\n",
      " |  \n",
      " |  Methods defined here:\n",
      " |  \n",
      " |  AnnotateCellTypes(self)\n",
      " |      Finds best annotation for single cells and Returns a Result object.\n",
      " |  \n",
      " |  __init__(self, sc_location, refDataset, annot=None, fine_tuning=False, tuning_by='top_n', tuning_threshold=0.05, tuning_top_n=7, min_gene_th=500, de_genes_n=None)\n",
      " |      Contructor function for SinglePython class.\n",
      " |      \n",
      " |      Parameters\n",
      " |      ----------\n",
      " |      sc_location : Str\n",
      " |          the location of sc-RNAseq data.\n",
      " |          \n",
      " |      refDataset : DataFrame\n",
      " |          The reference dataset gene expression matrix.\n",
      " |          \n",
      " |      annot : DataFrame\n",
      " |          Annotations for each column in ref_data.\n",
      " |          \n",
      " |      fine_tuning : Boolean\n",
      " |          If fine tuning will be applied.\n",
      " |          \n",
      " |      tuning_by : Str\n",
      " |          There are two tuning options. It can be ither done by taking top n most correlated cell types after\n",
      " |          the initial annotation (top_n) or setting a minimum threshold value to select cell types for tuning \n",
      " |          (threshod). The default value is top_n.\n",
      " |          \n",
      " |      tuning_threshold : Float\n",
      " |          The threshold value for the selection of cell types for \"threshold\" tuning. Default value is 0.05.\n",
      " |          \n",
      " |      tuning_top_n : Int\n",
      " |          The number of top correlated cell types to be selected for \"top_n\" tuning. Default value is 7. \n",
      " |          \n",
      " |      min_gene_th : Int\n",
      " |          Minimum gene threshold for genes that have expression more than zero. It is necessary to determine\n",
      " |          which cells to contribute to the analysis.\n",
      " |          \n",
      " |      de_genes_n : Int\n",
      " |          The number of top differentially expressed genes to be chosen for the analysis.\n",
      " |  \n",
      " |  ----------------------------------------------------------------------\n",
      " |  Data descriptors defined here:\n",
      " |  \n",
      " |  __dict__\n",
      " |      dictionary for instance variables (if defined)\n",
      " |  \n",
      " |  __weakref__\n",
      " |      list of weak references to the object (if defined)\n",
      "\n"
     ]
    }
   ],
   "source": [
    "#For details of parameters\n",
    "help(SinglePython.SinglePythonObject)"
   ]
  },
  {
   "cell_type": "code",
   "execution_count": null,
   "metadata": {},
   "outputs": [],
   "source": []
  }
 ],
 "metadata": {
  "hide_input": false,
  "kernelspec": {
   "display_name": "Python 3",
   "language": "python",
   "name": "python3"
  },
  "language_info": {
   "codemirror_mode": {
    "name": "ipython",
    "version": 3
   },
   "file_extension": ".py",
   "mimetype": "text/x-python",
   "name": "python",
   "nbconvert_exporter": "python",
   "pygments_lexer": "ipython3",
   "version": "3.7.0"
  },
  "toc": {
   "base_numbering": 1,
   "nav_menu": {},
   "number_sections": true,
   "sideBar": true,
   "skip_h1_title": false,
   "title_cell": "Table of Contents",
   "title_sidebar": "Contents",
   "toc_cell": false,
   "toc_position": {},
   "toc_section_display": true,
   "toc_window_display": false
  },
  "varInspector": {
   "cols": {
    "lenName": 16,
    "lenType": 16,
    "lenVar": 40
   },
   "kernels_config": {
    "python": {
     "delete_cmd_postfix": "",
     "delete_cmd_prefix": "del ",
     "library": "var_list.py",
     "varRefreshCmd": "print(var_dic_list())"
    },
    "r": {
     "delete_cmd_postfix": ") ",
     "delete_cmd_prefix": "rm(",
     "library": "var_list.r",
     "varRefreshCmd": "cat(var_dic_list()) "
    }
   },
   "types_to_exclude": [
    "module",
    "function",
    "builtin_function_or_method",
    "instance",
    "_Feature"
   ],
   "window_display": false
  }
 },
 "nbformat": 4,
 "nbformat_minor": 2
}
