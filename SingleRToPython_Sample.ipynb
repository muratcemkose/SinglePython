{
 "cells": [
  {
   "cell_type": "code",
   "execution_count": 1,
   "metadata": {
    "ExecuteTime": {
     "end_time": "2018-12-03T18:00:58.096770Z",
     "start_time": "2018-12-03T18:00:45.419876Z"
    }
   },
   "outputs": [],
   "source": [
    "import SinglePython\n",
    "import pandas as pd\n",
    "import numpy as np"
   ]
  },
  {
   "cell_type": "code",
   "execution_count": 2,
   "metadata": {},
   "outputs": [],
   "source": [
    "refDataset = pd.read_csv(\"./Data/Reference/hpca_data.csv\", sep=\";\", decimal = \",\", index_col = 0)\n",
    "refDataset = refDataset.astype('float')\n",
    "\n",
    "annot = pd.read_csv(\"./Data/Reference/hpca_annot.csv\",sep=\";\", index_col = 0)\n",
    "annot.columns=[\"cellType\"]"
   ]
  },
  {
   "cell_type": "code",
   "execution_count": 8,
   "metadata": {},
   "outputs": [
    {
     "name": "stderr",
     "output_type": "stream",
     "text": [
      "Variable names are not unique. To make them unique, call `.var_names_make_unique`.\n"
     ]
    }
   ],
   "source": [
    "#An example for a single experiment\n",
    "import utils as u\n",
    "data = u.readData_SingleR(\"./Data/Datasets/filtered_feature_bc_matrix/\", 250)\n"
   ]
  },
  {
   "cell_type": "code",
   "execution_count": 9,
   "metadata": {
    "ExecuteTime": {
     "end_time": "2018-12-03T18:00:58.116684Z",
     "start_time": "2018-12-03T18:00:58.110709Z"
    }
   },
   "outputs": [
    {
     "name": "stdout",
     "output_type": "stream",
     "text": [
      "Help on class SinglePythonObject in module SinglePython:\n",
      "\n",
      "class SinglePythonObject(builtins.object)\n",
      " |  SinglePythonObject(scData, refDataset, annot=None, fine_tuning=False, tuning_by='top_n', tuning_threshold=0.05, tuning_top_n=7, min_gene_th=500, de_genes_n=None)\n",
      " |  \n",
      " |  Methods defined here:\n",
      " |  \n",
      " |  __init__(self, scData, refDataset, annot=None, fine_tuning=False, tuning_by='top_n', tuning_threshold=0.05, tuning_top_n=7, min_gene_th=500, de_genes_n=None)\n",
      " |      Contructor function for SinglePython class.\n",
      " |      \n",
      " |      Parameters\n",
      " |      ----------\n",
      " |      sc_location : Str\n",
      " |          the location of sc-RNAseq data.\n",
      " |          \n",
      " |      refDataset : DataFrame\n",
      " |          The reference dataset gene expression matrix.\n",
      " |          \n",
      " |      annot : DataFrame\n",
      " |          Annotations for each column in ref_data.\n",
      " |          \n",
      " |      fine_tuning : Boolean\n",
      " |          If fine tuning will be applied.\n",
      " |          \n",
      " |      tuning_by : Str\n",
      " |          There are two tuning options. It can be ither done by taking top n most correlated cell types after\n",
      " |          the initial annotation (top_n) or setting a minimum threshold value to select cell types for tuning \n",
      " |          (threshod). The default value is top_n.\n",
      " |          \n",
      " |      tuning_threshold : Float\n",
      " |          The threshold value for the selection of cell types for \"threshold\" tuning. Default value is 0.05.\n",
      " |          \n",
      " |      tuning_top_n : Int\n",
      " |          The number of top correlated cell types to be selected for \"top_n\" tuning. Default value is 7. \n",
      " |          \n",
      " |      min_gene_th : Int\n",
      " |          Minimum gene threshold for genes that have expression more than zero. It is necessary to determine\n",
      " |          which cells to contribute to the analysis.\n",
      " |          \n",
      " |      de_genes_n : Int\n",
      " |          The number of top differentially expressed genes to be chosen for the analysis.\n",
      " |  \n",
      " |  annotateCellTypes(self)\n",
      " |      Finds best annotation for single cells and Returns a Result object.\n",
      " |  \n",
      " |  ----------------------------------------------------------------------\n",
      " |  Data descriptors defined here:\n",
      " |  \n",
      " |  __dict__\n",
      " |      dictionary for instance variables (if defined)\n",
      " |  \n",
      " |  __weakref__\n",
      " |      list of weak references to the object (if defined)\n",
      "\n"
     ]
    }
   ],
   "source": [
    "#For details of parameters\n",
    "help(SinglePython.SinglePythonObject)"
   ]
  },
  {
   "cell_type": "code",
   "execution_count": 10,
   "metadata": {},
   "outputs": [],
   "source": [
    "singler = SinglePython.SinglePythonObject(data, refDataset, annot, fine_tuning=True, tuning_by=\"top_n\")"
   ]
  },
  {
   "cell_type": "code",
   "execution_count": null,
   "metadata": {},
   "outputs": [
    {
     "name": "stderr",
     "output_type": "stream",
     "text": [
      "/projects/processedData/2018/IDV/fnabs_single_cell/data_merging/singler/SingleRToPython/tuning.py:42: FutureWarning: by argument to sort_index is deprecated, please use .sort_values(by=...)\n",
      "  [d.update({i:np.sort(scores.sort_index(by=i,ascending=False).index.values[0:n])}) for i in scores.columns]\n",
      "/projects/processedData/2018/IDV/fnabs_single_cell/data_merging/singler/SingleRToPython/tuning.py:100: FutureWarning: by argument to sort_index is deprecated, please use .sort_values(by=...)\n",
      "  return [scores.sort_index(by=i,ascending=False).index.values[0:len(top_labels)-1] for i in scores.columns]\n"
     ]
    }
   ],
   "source": [
    "result = singler.annotateCellTypes()"
   ]
  },
  {
   "cell_type": "code",
   "execution_count": null,
   "metadata": {},
   "outputs": [],
   "source": [
    "result.final_annotations"
   ]
  },
  {
   "cell_type": "code",
   "execution_count": null,
   "metadata": {},
   "outputs": [],
   "source": [
    "def performSamplePreparation(data, minCounts, maxCounts, minGenes, minCells, maxPercentMito = .1):\n",
    "    matplotlib.rcParams['figure.figsize'] = [3, 3]\n",
    "    \n",
    "    data.var_names_make_unique()\n",
    "    \n",
    "    print(data)\n",
    "    \n",
    "\n",
    "    \n",
    "    data.raw = data.copy()\n",
    "    \n",
    "    mito_genes = [name for name in data.var_names if name.startswith(\"MT-\")]\n",
    "    data.obs['percent_mito'] = np.ravel(np.sum(\n",
    "    data[:, mito_genes].X, axis=1)) / np.ravel(np.sum(data.X, axis=1))\n",
    "    data.obs['n_counts'] = np.ravel(np.sum(data.X, axis=1))\n",
    "    \n",
    "    sc.pp.filter_cells(data, min_genes=0) # Hack to generate the n_genes column\n",
    "    sc.pp.filter_genes(data, min_cells=0)\n",
    "    \n",
    "    priorFilteringCellCount = data.n_obs\n",
    "    priorFilteringGeneCount = len(data.var[data.var[\"n_cells\"] > 0])\n",
    "    \n",
    "    \n",
    "    sc.pl.violin(data, ['n_genes', 'n_counts', 'percent_mito'],\n",
    "             jitter=0.4, multi_panel=True)\n",
    "    \n",
    "    sc.pp.filter_cells(data, min_genes=minGenes)\n",
    "    sc.pp.filter_genes(data, min_cells=minCells) \n",
    "    \n",
    "    sc.pl.scatter(data, x='n_counts', y='percent_mito')\n",
    "    sc.pl.scatter(data, x='n_counts', y='n_genes')\n",
    "    \n",
    "    data = data[data.obs['n_counts'] > minCounts, :]\n",
    "    data = data[data.obs['n_counts'] < maxCounts, :]\n",
    "    data = data[data.obs['percent_mito'] < maxPercentMito, :]\n",
    "    \n",
    " #   data_raw = sc.pp.log1p(data, copy=True)\n",
    "    \n",
    "    \n",
    "    postFilteringCellCount = data.n_obs\n",
    "    postFilteringGeneCount = len(data.var[data.var[\"n_cells\"] > 0])\n",
    "    \n",
    "    sc.pp.normalize_per_cell(data, counts_per_cell_after=1e4)\n",
    "    filter_result = sc.pp.filter_genes_dispersion(\n",
    "        data.X, min_mean=0.0125, max_mean=3, min_disp=0.5)\n",
    "    sc.pl.filter_genes_dispersion(filter_result)\n",
    "\n",
    "    data = data[:, filter_result.gene_subset]\n",
    "    \n",
    "    \n",
    "    hgvFilteringGeneCount = len(filter_result.gene_subset)\n",
    "    hgvFilteringCellCount = len(data.var[data.var[\"n_cells\"] > 0])\n",
    "    \n",
    "    sc.pp.log1p(data)\n",
    "        \n",
    "    sc.tl.pca(data)\n",
    "    sc.pl.pca(data)\n",
    "    \n",
    "    \n",
    "    sc.pp.filter_genes(data, min_counts=1) # Remove unwanted zero count genes\n",
    "    \n",
    "    sc.pp.regress_out(data, ['n_counts'])\n",
    "    \n",
    "    sc.pp.scale(data, max_value=10)\n",
    "    \n",
    "    sc.tl.pca(data)\n",
    "    sc.pl.pca(data)\n",
    "    \n",
    "    sc.pl.violin(data, ['n_genes', 'n_counts', 'percent_mito'],\n",
    "        jitter=0.4, multi_panel=True, use_raw = False)\n",
    "    \n",
    "    \n",
    "    \n",
    "    print(data)\n",
    "    return data"
   ]
  },
  {
   "cell_type": "code",
   "execution_count": null,
   "metadata": {},
   "outputs": [],
   "source": [
    "import os\n",
    "import matplotlib\n",
    "import scanpy.api as sc\n",
    "import scipy.io\n",
    "import numpy as np\n",
    "\n",
    "def readData(path):    \n",
    "    matplotlib.rcParams['figure.figsize'] = [3, 3]\n",
    "    \n",
    "    data = sc.read(path + 'matrix.mtx', cache=True).transpose()\n",
    "    data.var_names = np.genfromtxt(path + 'genes.tsv', dtype=str)[:, 1]\n",
    "    data.obs_names = np.genfromtxt(path + 'barcodes.tsv', dtype=str)\n",
    "    \n",
    "    return performSamplePreparation(data, 500, 25000, 0, 3)"
   ]
  },
  {
   "cell_type": "code",
   "execution_count": null,
   "metadata": {},
   "outputs": [],
   "source": [
    "sampleCleanedCountMatrix = readData(\"./Data/Datasets/b_cells_filtered_gene_bc_matrices/\")"
   ]
  },
  {
   "cell_type": "code",
   "execution_count": null,
   "metadata": {},
   "outputs": [],
   "source": [
    "def cluster(data):\n",
    "    sc.pp.scale(data, max_value=10)\n",
    "    sc.tl.pca(data)\n",
    "    sc.pp.neighbors(data)\n",
    "    sc.logging.print_memory_usage()\n",
    "    sc.tl.umap(data)\n",
    "    sc.logging.print_memory_usage()\n",
    "    sc.tl.tsne(data)\n",
    "    sc.logging.print_memory_usage()"
   ]
  },
  {
   "cell_type": "code",
   "execution_count": null,
   "metadata": {},
   "outputs": [],
   "source": [
    "cluster(sampleCleanedCountMatrix)"
   ]
  },
  {
   "cell_type": "code",
   "execution_count": null,
   "metadata": {},
   "outputs": [],
   "source": [
    "sc.pl.tsne(sampleCleanedCountMatrix)"
   ]
  },
  {
   "cell_type": "code",
   "execution_count": null,
   "metadata": {},
   "outputs": [],
   "source": [
    "def mergeAnnotations(scData, annotationResults):\n",
    "    scData.obs[\"cellType\"] = annotationResults.final_annotations.transpose()\n",
    "    scData.obs[\"majorCellType\"] = scData.obs[\"cellType\"].str.split(\":\").str[0]\n",
    "    return scData"
   ]
  },
  {
   "cell_type": "code",
   "execution_count": null,
   "metadata": {},
   "outputs": [],
   "source": [
    "mergeAnnotations(sampleCleanedCountMatrix, result)"
   ]
  },
  {
   "cell_type": "code",
   "execution_count": null,
   "metadata": {},
   "outputs": [],
   "source": []
  }
 ],
 "metadata": {
  "hide_input": false,
  "kernelspec": {
   "display_name": "Mpop",
   "language": "python",
   "name": "mpop"
  },
  "language_info": {
   "codemirror_mode": {
    "name": "ipython",
    "version": 3
   },
   "file_extension": ".py",
   "mimetype": "text/x-python",
   "name": "python",
   "nbconvert_exporter": "python",
   "pygments_lexer": "ipython3",
   "version": "3.7.1"
  },
  "toc": {
   "base_numbering": 1,
   "nav_menu": {},
   "number_sections": true,
   "sideBar": true,
   "skip_h1_title": false,
   "title_cell": "Table of Contents",
   "title_sidebar": "Contents",
   "toc_cell": false,
   "toc_position": {},
   "toc_section_display": true,
   "toc_window_display": false
  },
  "varInspector": {
   "cols": {
    "lenName": 16,
    "lenType": 16,
    "lenVar": 40
   },
   "kernels_config": {
    "python": {
     "delete_cmd_postfix": "",
     "delete_cmd_prefix": "del ",
     "library": "var_list.py",
     "varRefreshCmd": "print(var_dic_list())"
    },
    "r": {
     "delete_cmd_postfix": ") ",
     "delete_cmd_prefix": "rm(",
     "library": "var_list.r",
     "varRefreshCmd": "cat(var_dic_list()) "
    }
   },
   "types_to_exclude": [
    "module",
    "function",
    "builtin_function_or_method",
    "instance",
    "_Feature"
   ],
   "window_display": false
  }
 },
 "nbformat": 4,
 "nbformat_minor": 2
}
